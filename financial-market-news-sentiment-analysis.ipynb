{
 "cells": [
  {
   "cell_type": "markdown",
   "id": "e5d08568",
   "metadata": {
    "papermill": {
     "duration": 0.010777,
     "end_time": "2023-12-06T22:34:20.464282",
     "exception": false,
     "start_time": "2023-12-06T22:34:20.453505",
     "status": "completed"
    },
    "tags": []
   },
   "source": [
    "# **Import Libraries**"
   ]
  },
  {
   "cell_type": "code",
   "execution_count": 1,
   "id": "82ec7787",
   "metadata": {
    "execution": {
     "iopub.execute_input": "2023-12-06T22:34:20.486105Z",
     "iopub.status.busy": "2023-12-06T22:34:20.485430Z",
     "iopub.status.idle": "2023-12-06T22:34:20.496829Z",
     "shell.execute_reply": "2023-12-06T22:34:20.496186Z"
    },
    "papermill": {
     "duration": 0.024188,
     "end_time": "2023-12-06T22:34:20.498630",
     "exception": false,
     "start_time": "2023-12-06T22:34:20.474442",
     "status": "completed"
    },
    "tags": []
   },
   "outputs": [],
   "source": [
    "import numpy as np # linear algebra\n",
    "import pandas as pd # data processing\n",
    "import re"
   ]
  },
  {
   "cell_type": "markdown",
   "id": "0fa0d4d1",
   "metadata": {
    "papermill": {
     "duration": 0.009608,
     "end_time": "2023-12-06T22:34:20.518120",
     "exception": false,
     "start_time": "2023-12-06T22:34:20.508512",
     "status": "completed"
    },
    "tags": []
   },
   "source": [
    "# **Import Dataset**"
   ]
  },
  {
   "cell_type": "code",
   "execution_count": 2,
   "id": "f9f4ebb4",
   "metadata": {
    "execution": {
     "iopub.execute_input": "2023-12-06T22:34:20.538815Z",
     "iopub.status.busy": "2023-12-06T22:34:20.538581Z",
     "iopub.status.idle": "2023-12-06T22:34:21.430651Z",
     "shell.execute_reply": "2023-12-06T22:34:21.429897Z"
    },
    "papermill": {
     "duration": 0.904989,
     "end_time": "2023-12-06T22:34:21.432993",
     "exception": false,
     "start_time": "2023-12-06T22:34:20.528004",
     "status": "completed"
    },
    "tags": []
   },
   "outputs": [],
   "source": [
    "data=pd.read_csv(r'https://github.com/YBIFoundation/Dataset/raw/f8214ff4c0ab870e0d86ccce73c4bae9ba7c5c12/Financial%20Market%20News.csv',encoding='ISO-8859-1')"
   ]
  },
  {
   "cell_type": "code",
   "execution_count": 3,
   "id": "67e64ab4",
   "metadata": {
    "execution": {
     "iopub.execute_input": "2023-12-06T22:34:21.454528Z",
     "iopub.status.busy": "2023-12-06T22:34:21.454250Z",
     "iopub.status.idle": "2023-12-06T22:34:21.458227Z",
     "shell.execute_reply": "2023-12-06T22:34:21.457378Z"
    },
    "papermill": {
     "duration": 0.016869,
     "end_time": "2023-12-06T22:34:21.460120",
     "exception": false,
     "start_time": "2023-12-06T22:34:21.443251",
     "status": "completed"
    },
    "tags": []
   },
   "outputs": [],
   "source": [
    "#data=pd.read_csv(r'https://github.com/krishnaik06/Stock-Sentiment-Analysis/raw/master/Data.csv',encoding='ISO-8859-1')"
   ]
  },
  {
   "cell_type": "code",
   "execution_count": 4,
   "id": "da29b19b",
   "metadata": {
    "execution": {
     "iopub.execute_input": "2023-12-06T22:34:21.481381Z",
     "iopub.status.busy": "2023-12-06T22:34:21.481111Z",
     "iopub.status.idle": "2023-12-06T22:34:21.511281Z",
     "shell.execute_reply": "2023-12-06T22:34:21.510420Z"
    },
    "papermill": {
     "duration": 0.043377,
     "end_time": "2023-12-06T22:34:21.513603",
     "exception": false,
     "start_time": "2023-12-06T22:34:21.470226",
     "status": "completed"
    },
    "tags": []
   },
   "outputs": [
    {
     "data": {
      "text/html": [
       "<div>\n",
       "<style scoped>\n",
       "    .dataframe tbody tr th:only-of-type {\n",
       "        vertical-align: middle;\n",
       "    }\n",
       "\n",
       "    .dataframe tbody tr th {\n",
       "        vertical-align: top;\n",
       "    }\n",
       "\n",
       "    .dataframe thead th {\n",
       "        text-align: right;\n",
       "    }\n",
       "</style>\n",
       "<table border=\"1\" class=\"dataframe\">\n",
       "  <thead>\n",
       "    <tr style=\"text-align: right;\">\n",
       "      <th></th>\n",
       "      <th>Date</th>\n",
       "      <th>Label</th>\n",
       "      <th>News 1</th>\n",
       "      <th>News 2</th>\n",
       "      <th>News 3</th>\n",
       "      <th>News 4</th>\n",
       "      <th>News 5</th>\n",
       "      <th>News 6</th>\n",
       "      <th>News 7</th>\n",
       "      <th>News 8</th>\n",
       "      <th>...</th>\n",
       "      <th>News 16</th>\n",
       "      <th>News 17</th>\n",
       "      <th>News 18</th>\n",
       "      <th>News 19</th>\n",
       "      <th>News 20</th>\n",
       "      <th>News 21</th>\n",
       "      <th>News 22</th>\n",
       "      <th>News 23</th>\n",
       "      <th>News 24</th>\n",
       "      <th>News 25</th>\n",
       "    </tr>\n",
       "  </thead>\n",
       "  <tbody>\n",
       "    <tr>\n",
       "      <th>4096</th>\n",
       "      <td>20-03-2021</td>\n",
       "      <td>0</td>\n",
       "      <td>Barclays and RBS shares suspended from trading...</td>\n",
       "      <td>Pope says Church should ask forgiveness from g...</td>\n",
       "      <td>Poland 'shocked' by xenophobic abuse of Poles ...</td>\n",
       "      <td>There will be no second referendum, cabinet ag...</td>\n",
       "      <td>Scotland welcome to join EU, Merkel ally says</td>\n",
       "      <td>Sterling dips below Friday's 31-year low amid ...</td>\n",
       "      <td>No negative news about South African President...</td>\n",
       "      <td>Surge in Hate Crimes in the U.K. Following U.K...</td>\n",
       "      <td>...</td>\n",
       "      <td>German lawyers to probe Erdogan over alleged w...</td>\n",
       "      <td>Boris Johnson says the UK will continue to \"in...</td>\n",
       "      <td>Richard Branson is calling on the UK governmen...</td>\n",
       "      <td>Turkey 'sorry for downing Russian jet'</td>\n",
       "      <td>Edward Snowden lawyer vows new push for pardon...</td>\n",
       "      <td>Brexit opinion poll reveals majority don't wan...</td>\n",
       "      <td>Conservative MP Leave Campaigner: \"The leave c...</td>\n",
       "      <td>Economists predict UK recession, further weake...</td>\n",
       "      <td>New EU 'superstate plan by France, Germany: Cr...</td>\n",
       "      <td>Pakistani clerics declare transgender marriage...</td>\n",
       "    </tr>\n",
       "    <tr>\n",
       "      <th>4097</th>\n",
       "      <td>21-03-2021</td>\n",
       "      <td>1</td>\n",
       "      <td>2,500 Scientists To Australia: If You Want To ...</td>\n",
       "      <td>The personal details of 112,000 French police ...</td>\n",
       "      <td>S&amp;amp;P cuts United Kingdom sovereign credit r...</td>\n",
       "      <td>Huge helium deposit found in Africa</td>\n",
       "      <td>CEO of the South African state broadcaster qui...</td>\n",
       "      <td>Brexit cost investors $2 trillion, the worst o...</td>\n",
       "      <td>Hong Kong democracy activists call for return ...</td>\n",
       "      <td>Brexit: Iceland president says UK can join 'tr...</td>\n",
       "      <td>...</td>\n",
       "      <td>US, Canada and Mexico pledge 50% of power from...</td>\n",
       "      <td>There is increasing evidence that Australia is...</td>\n",
       "      <td>Richard Branson, the founder of Virgin Group, ...</td>\n",
       "      <td>37,000-yr-old skull from Borneo reveals surpri...</td>\n",
       "      <td>Palestinians stone Western Wall worshipers; po...</td>\n",
       "      <td>Jean-Claude Juncker asks Farage: Why are you h...</td>\n",
       "      <td>\"Romanians for Remainians\" offering a new home...</td>\n",
       "      <td>Brexit: Gibraltar in talks with Scotland to st...</td>\n",
       "      <td>8 Suicide Bombers Strike Lebanon</td>\n",
       "      <td>Mexico's security forces routinely use 'sexual...</td>\n",
       "    </tr>\n",
       "    <tr>\n",
       "      <th>4098</th>\n",
       "      <td>22-03-2021</td>\n",
       "      <td>1</td>\n",
       "      <td>Explosion At Airport In Istanbul</td>\n",
       "      <td>Yemeni former president: Terrorism is the offs...</td>\n",
       "      <td>UK must accept freedom of movement to access E...</td>\n",
       "      <td>Devastated: scientists too late to captive bre...</td>\n",
       "      <td>British Labor Party leader Jeremy Corbyn loses...</td>\n",
       "      <td>A Muslim Shop in the UK Was Just Firebombed Wh...</td>\n",
       "      <td>Mexican Authorities Sexually Torture Women in ...</td>\n",
       "      <td>UK shares and pound continue to recover</td>\n",
       "      <td>...</td>\n",
       "      <td>Escape Tunnel, Dug by Hand, Is Found at Holoca...</td>\n",
       "      <td>The land under Beijing is sinking by as much a...</td>\n",
       "      <td>Car bomb and Anti-Islamic attack on Mosque in ...</td>\n",
       "      <td>Emaciated lions in Taiz Zoo are trapped in blo...</td>\n",
       "      <td>Rupert Murdoch describes Brexit as 'wonderful'...</td>\n",
       "      <td>More than 40 killed in Yemen suicide attacks</td>\n",
       "      <td>Google Found Disastrous Symantec and Norton Vu...</td>\n",
       "      <td>Extremist violence on the rise in Germany: Dom...</td>\n",
       "      <td>BBC News: Labour MPs pass Corbyn no-confidence...</td>\n",
       "      <td>Tiny New Zealand town with 'too many jobs' lau...</td>\n",
       "    </tr>\n",
       "    <tr>\n",
       "      <th>4099</th>\n",
       "      <td>23-03-2021</td>\n",
       "      <td>1</td>\n",
       "      <td>Jamaica proposes marijuana dispensers for tour...</td>\n",
       "      <td>Stephen Hawking says pollution and 'stupidity'...</td>\n",
       "      <td>Boris Johnson says he will not run for Tory pa...</td>\n",
       "      <td>Six gay men in Ivory Coast were abused and for...</td>\n",
       "      <td>Switzerland denies citizenship to Muslim immig...</td>\n",
       "      <td>Palestinian terrorist stabs israeli teen girl ...</td>\n",
       "      <td>Puerto Rico will default on $1 billion of debt...</td>\n",
       "      <td>Republic of Ireland fans to be awarded medal f...</td>\n",
       "      <td>...</td>\n",
       "      <td>Googles free wifi at Indian railway stations i...</td>\n",
       "      <td>Mounting evidence suggests 'hobbits' were wipe...</td>\n",
       "      <td>The men who carried out Tuesday's terror attac...</td>\n",
       "      <td>Calls to suspend Saudi Arabia from UN Human Ri...</td>\n",
       "      <td>More Than 100 Nobel Laureates Call Out Greenpe...</td>\n",
       "      <td>British pedophile sentenced to 85 years in US ...</td>\n",
       "      <td>US permitted 1,200 offshore fracks in Gulf of ...</td>\n",
       "      <td>We will be swimming in ridicule - French beach...</td>\n",
       "      <td>UEFA says no minutes of silence for Istanbul v...</td>\n",
       "      <td>Law Enforcement Sources: Gun Used in Paris Ter...</td>\n",
       "    </tr>\n",
       "    <tr>\n",
       "      <th>4100</th>\n",
       "      <td>24-03-2021</td>\n",
       "      <td>1</td>\n",
       "      <td>A 117-year-old woman in Mexico City finally re...</td>\n",
       "      <td>IMF chief backs Athens as permanent Olympic host</td>\n",
       "      <td>The president of France says if Brexit won, so...</td>\n",
       "      <td>British Man Who Must Give Police 24 Hours' Not...</td>\n",
       "      <td>100+ Nobel laureates urge Greenpeace to stop o...</td>\n",
       "      <td>Brazil: Huge spike in number of police killing...</td>\n",
       "      <td>Austria's highest court annuls presidential el...</td>\n",
       "      <td>Facebook wins privacy case, can track any Belg...</td>\n",
       "      <td>...</td>\n",
       "      <td>The United States has placed Myanmar, Uzbekist...</td>\n",
       "      <td>S&amp;amp;P revises European Union credit rating t...</td>\n",
       "      <td>India gets $1 billion loan from World Bank for...</td>\n",
       "      <td>U.S. sailors detained by Iran spoke too much u...</td>\n",
       "      <td>Mass fish kill in Vietnam solved as Taiwan ste...</td>\n",
       "      <td>Philippines president Rodrigo Duterte urges pe...</td>\n",
       "      <td>Spain arrests three Pakistanis accused of prom...</td>\n",
       "      <td>Venezuela, where anger over food shortages is ...</td>\n",
       "      <td>A Hindu temple worker has been killed by three...</td>\n",
       "      <td>Ozone layer hole seems to be healing - US &amp;amp...</td>\n",
       "    </tr>\n",
       "  </tbody>\n",
       "</table>\n",
       "<p>5 rows × 27 columns</p>\n",
       "</div>"
      ],
      "text/plain": [
       "            Date  Label                                             News 1  \\\n",
       "4096  20-03-2021      0  Barclays and RBS shares suspended from trading...   \n",
       "4097  21-03-2021      1  2,500 Scientists To Australia: If You Want To ...   \n",
       "4098  22-03-2021      1                   Explosion At Airport In Istanbul   \n",
       "4099  23-03-2021      1  Jamaica proposes marijuana dispensers for tour...   \n",
       "4100  24-03-2021      1  A 117-year-old woman in Mexico City finally re...   \n",
       "\n",
       "                                                 News 2  \\\n",
       "4096  Pope says Church should ask forgiveness from g...   \n",
       "4097  The personal details of 112,000 French police ...   \n",
       "4098  Yemeni former president: Terrorism is the offs...   \n",
       "4099  Stephen Hawking says pollution and 'stupidity'...   \n",
       "4100   IMF chief backs Athens as permanent Olympic host   \n",
       "\n",
       "                                                 News 3  \\\n",
       "4096  Poland 'shocked' by xenophobic abuse of Poles ...   \n",
       "4097  S&amp;P cuts United Kingdom sovereign credit r...   \n",
       "4098  UK must accept freedom of movement to access E...   \n",
       "4099  Boris Johnson says he will not run for Tory pa...   \n",
       "4100  The president of France says if Brexit won, so...   \n",
       "\n",
       "                                                 News 4  \\\n",
       "4096  There will be no second referendum, cabinet ag...   \n",
       "4097                Huge helium deposit found in Africa   \n",
       "4098  Devastated: scientists too late to captive bre...   \n",
       "4099  Six gay men in Ivory Coast were abused and for...   \n",
       "4100  British Man Who Must Give Police 24 Hours' Not...   \n",
       "\n",
       "                                                 News 5  \\\n",
       "4096      Scotland welcome to join EU, Merkel ally says   \n",
       "4097  CEO of the South African state broadcaster qui...   \n",
       "4098  British Labor Party leader Jeremy Corbyn loses...   \n",
       "4099  Switzerland denies citizenship to Muslim immig...   \n",
       "4100  100+ Nobel laureates urge Greenpeace to stop o...   \n",
       "\n",
       "                                                 News 6  \\\n",
       "4096  Sterling dips below Friday's 31-year low amid ...   \n",
       "4097  Brexit cost investors $2 trillion, the worst o...   \n",
       "4098  A Muslim Shop in the UK Was Just Firebombed Wh...   \n",
       "4099  Palestinian terrorist stabs israeli teen girl ...   \n",
       "4100  Brazil: Huge spike in number of police killing...   \n",
       "\n",
       "                                                 News 7  \\\n",
       "4096  No negative news about South African President...   \n",
       "4097  Hong Kong democracy activists call for return ...   \n",
       "4098  Mexican Authorities Sexually Torture Women in ...   \n",
       "4099  Puerto Rico will default on $1 billion of debt...   \n",
       "4100  Austria's highest court annuls presidential el...   \n",
       "\n",
       "                                                 News 8  ...  \\\n",
       "4096  Surge in Hate Crimes in the U.K. Following U.K...  ...   \n",
       "4097  Brexit: Iceland president says UK can join 'tr...  ...   \n",
       "4098            UK shares and pound continue to recover  ...   \n",
       "4099  Republic of Ireland fans to be awarded medal f...  ...   \n",
       "4100  Facebook wins privacy case, can track any Belg...  ...   \n",
       "\n",
       "                                                News 16  \\\n",
       "4096  German lawyers to probe Erdogan over alleged w...   \n",
       "4097  US, Canada and Mexico pledge 50% of power from...   \n",
       "4098  Escape Tunnel, Dug by Hand, Is Found at Holoca...   \n",
       "4099  Googles free wifi at Indian railway stations i...   \n",
       "4100  The United States has placed Myanmar, Uzbekist...   \n",
       "\n",
       "                                                News 17  \\\n",
       "4096  Boris Johnson says the UK will continue to \"in...   \n",
       "4097  There is increasing evidence that Australia is...   \n",
       "4098  The land under Beijing is sinking by as much a...   \n",
       "4099  Mounting evidence suggests 'hobbits' were wipe...   \n",
       "4100  S&amp;P revises European Union credit rating t...   \n",
       "\n",
       "                                                News 18  \\\n",
       "4096  Richard Branson is calling on the UK governmen...   \n",
       "4097  Richard Branson, the founder of Virgin Group, ...   \n",
       "4098  Car bomb and Anti-Islamic attack on Mosque in ...   \n",
       "4099  The men who carried out Tuesday's terror attac...   \n",
       "4100  India gets $1 billion loan from World Bank for...   \n",
       "\n",
       "                                                News 19  \\\n",
       "4096             Turkey 'sorry for downing Russian jet'   \n",
       "4097  37,000-yr-old skull from Borneo reveals surpri...   \n",
       "4098  Emaciated lions in Taiz Zoo are trapped in blo...   \n",
       "4099  Calls to suspend Saudi Arabia from UN Human Ri...   \n",
       "4100  U.S. sailors detained by Iran spoke too much u...   \n",
       "\n",
       "                                                News 20  \\\n",
       "4096  Edward Snowden lawyer vows new push for pardon...   \n",
       "4097  Palestinians stone Western Wall worshipers; po...   \n",
       "4098  Rupert Murdoch describes Brexit as 'wonderful'...   \n",
       "4099  More Than 100 Nobel Laureates Call Out Greenpe...   \n",
       "4100  Mass fish kill in Vietnam solved as Taiwan ste...   \n",
       "\n",
       "                                                News 21  \\\n",
       "4096  Brexit opinion poll reveals majority don't wan...   \n",
       "4097  Jean-Claude Juncker asks Farage: Why are you h...   \n",
       "4098       More than 40 killed in Yemen suicide attacks   \n",
       "4099  British pedophile sentenced to 85 years in US ...   \n",
       "4100  Philippines president Rodrigo Duterte urges pe...   \n",
       "\n",
       "                                                News 22  \\\n",
       "4096  Conservative MP Leave Campaigner: \"The leave c...   \n",
       "4097  \"Romanians for Remainians\" offering a new home...   \n",
       "4098  Google Found Disastrous Symantec and Norton Vu...   \n",
       "4099  US permitted 1,200 offshore fracks in Gulf of ...   \n",
       "4100  Spain arrests three Pakistanis accused of prom...   \n",
       "\n",
       "                                                News 23  \\\n",
       "4096  Economists predict UK recession, further weake...   \n",
       "4097  Brexit: Gibraltar in talks with Scotland to st...   \n",
       "4098  Extremist violence on the rise in Germany: Dom...   \n",
       "4099  We will be swimming in ridicule - French beach...   \n",
       "4100  Venezuela, where anger over food shortages is ...   \n",
       "\n",
       "                                                News 24  \\\n",
       "4096  New EU 'superstate plan by France, Germany: Cr...   \n",
       "4097                   8 Suicide Bombers Strike Lebanon   \n",
       "4098  BBC News: Labour MPs pass Corbyn no-confidence...   \n",
       "4099  UEFA says no minutes of silence for Istanbul v...   \n",
       "4100  A Hindu temple worker has been killed by three...   \n",
       "\n",
       "                                                News 25  \n",
       "4096  Pakistani clerics declare transgender marriage...  \n",
       "4097  Mexico's security forces routinely use 'sexual...  \n",
       "4098  Tiny New Zealand town with 'too many jobs' lau...  \n",
       "4099  Law Enforcement Sources: Gun Used in Paris Ter...  \n",
       "4100  Ozone layer hole seems to be healing - US &amp...  \n",
       "\n",
       "[5 rows x 27 columns]"
      ]
     },
     "execution_count": 4,
     "metadata": {},
     "output_type": "execute_result"
    }
   ],
   "source": [
    "data.tail()"
   ]
  },
  {
   "cell_type": "code",
   "execution_count": 5,
   "id": "adc7a51a",
   "metadata": {
    "execution": {
     "iopub.execute_input": "2023-12-06T22:34:21.535520Z",
     "iopub.status.busy": "2023-12-06T22:34:21.535253Z",
     "iopub.status.idle": "2023-12-06T22:34:21.572198Z",
     "shell.execute_reply": "2023-12-06T22:34:21.571419Z"
    },
    "papermill": {
     "duration": 0.049931,
     "end_time": "2023-12-06T22:34:21.574018",
     "exception": false,
     "start_time": "2023-12-06T22:34:21.524087",
     "status": "completed"
    },
    "tags": []
   },
   "outputs": [
    {
     "data": {
      "text/plain": [
       "Date       0\n",
       "Label      0\n",
       "News 1     0\n",
       "News 2     0\n",
       "News 3     0\n",
       "News 4     0\n",
       "News 5     0\n",
       "News 6     0\n",
       "News 7     0\n",
       "News 8     0\n",
       "News 9     0\n",
       "News 10    0\n",
       "News 11    0\n",
       "News 12    0\n",
       "News 13    0\n",
       "News 14    0\n",
       "News 15    0\n",
       "News 16    0\n",
       "News 17    0\n",
       "News 18    0\n",
       "News 19    0\n",
       "News 20    0\n",
       "News 21    0\n",
       "News 22    0\n",
       "News 23    1\n",
       "News 24    3\n",
       "News 25    3\n",
       "dtype: int64"
      ]
     },
     "execution_count": 5,
     "metadata": {},
     "output_type": "execute_result"
    }
   ],
   "source": [
    "data.isnull().sum()"
   ]
  },
  {
   "cell_type": "markdown",
   "id": "b4b1fc68",
   "metadata": {
    "papermill": {
     "duration": 0.010596,
     "end_time": "2023-12-06T22:34:21.595350",
     "exception": false,
     "start_time": "2023-12-06T22:34:21.584754",
     "status": "completed"
    },
    "tags": []
   },
   "source": [
    "**If Date is npot formatted to YYYY-DD-MM**"
   ]
  },
  {
   "cell_type": "code",
   "execution_count": 6,
   "id": "9e09e1cf",
   "metadata": {
    "execution": {
     "iopub.execute_input": "2023-12-06T22:34:21.617526Z",
     "iopub.status.busy": "2023-12-06T22:34:21.617266Z",
     "iopub.status.idle": "2023-12-06T22:34:21.647010Z",
     "shell.execute_reply": "2023-12-06T22:34:21.646239Z"
    },
    "papermill": {
     "duration": 0.043238,
     "end_time": "2023-12-06T22:34:21.649167",
     "exception": false,
     "start_time": "2023-12-06T22:34:21.605929",
     "status": "completed"
    },
    "tags": []
   },
   "outputs": [
    {
     "data": {
      "text/html": [
       "<div>\n",
       "<style scoped>\n",
       "    .dataframe tbody tr th:only-of-type {\n",
       "        vertical-align: middle;\n",
       "    }\n",
       "\n",
       "    .dataframe tbody tr th {\n",
       "        vertical-align: top;\n",
       "    }\n",
       "\n",
       "    .dataframe thead th {\n",
       "        text-align: right;\n",
       "    }\n",
       "</style>\n",
       "<table border=\"1\" class=\"dataframe\">\n",
       "  <thead>\n",
       "    <tr style=\"text-align: right;\">\n",
       "      <th></th>\n",
       "      <th>Label</th>\n",
       "      <th>News 1</th>\n",
       "      <th>News 2</th>\n",
       "      <th>News 3</th>\n",
       "      <th>News 4</th>\n",
       "      <th>News 5</th>\n",
       "      <th>News 6</th>\n",
       "      <th>News 7</th>\n",
       "      <th>News 8</th>\n",
       "      <th>News 9</th>\n",
       "      <th>...</th>\n",
       "      <th>News 16</th>\n",
       "      <th>News 17</th>\n",
       "      <th>News 18</th>\n",
       "      <th>News 19</th>\n",
       "      <th>News 20</th>\n",
       "      <th>News 21</th>\n",
       "      <th>News 22</th>\n",
       "      <th>News 23</th>\n",
       "      <th>News 24</th>\n",
       "      <th>News 25</th>\n",
       "    </tr>\n",
       "  </thead>\n",
       "  <tbody>\n",
       "    <tr>\n",
       "      <th>0</th>\n",
       "      <td>0</td>\n",
       "      <td>McIlroy's men catch cold from Gudjonsson</td>\n",
       "      <td>Obituary: Brian Walsh</td>\n",
       "      <td>Workplace blues leave employers in the red</td>\n",
       "      <td>Classical review: Rattle</td>\n",
       "      <td>Dance review: Merce Cunningham</td>\n",
       "      <td>Genetic tests to be used in setting premiums</td>\n",
       "      <td>Opera review: La Bohème</td>\n",
       "      <td>Pop review: Britney Spears</td>\n",
       "      <td>Theatre review: The Circle</td>\n",
       "      <td>...</td>\n",
       "      <td>Finland 0 - 0 England</td>\n",
       "      <td>Healy a marked man</td>\n",
       "      <td>Happy birthday Harpers &amp; Queen</td>\n",
       "      <td>Win unlimited access to the Raindance film fes...</td>\n",
       "      <td>Labour pledges £800m to bridge north-south divide</td>\n",
       "      <td>Wales: Lib-Lab pact firm despite resignation</td>\n",
       "      <td>Donald Dewar</td>\n",
       "      <td>Regenerating homes  regenerates well-being in ...</td>\n",
       "      <td>Win £100 worth of underwear</td>\n",
       "      <td>TV guide: Random views</td>\n",
       "    </tr>\n",
       "    <tr>\n",
       "      <th>1</th>\n",
       "      <td>0</td>\n",
       "      <td>Warning from history points to crash</td>\n",
       "      <td>Investors flee to dollar haven</td>\n",
       "      <td>Banks and tobacco in favour</td>\n",
       "      <td>Review: Llama Farmers</td>\n",
       "      <td>War jitters lead to sell-off</td>\n",
       "      <td>Your not-so-secret history</td>\n",
       "      <td>Review: The Northern Sinfonia</td>\n",
       "      <td>Review: Hysteria</td>\n",
       "      <td>Review: The Guardsman</td>\n",
       "      <td>...</td>\n",
       "      <td>Why Wenger will stick to his Gunners</td>\n",
       "      <td>Out of luck England hit rock bottom</td>\n",
       "      <td>Wilkinson out of his depth</td>\n",
       "      <td>Kinsella sparks Irish power play</td>\n",
       "      <td>Brown banished as Scots rebound</td>\n",
       "      <td>Battling Wales cling to lifeline</td>\n",
       "      <td>Ehiogu close to sealing Boro move</td>\n",
       "      <td>Man-to-man marking</td>\n",
       "      <td>Match stats</td>\n",
       "      <td>French referee at centre of storm is no strang...</td>\n",
       "    </tr>\n",
       "    <tr>\n",
       "      <th>2</th>\n",
       "      <td>0</td>\n",
       "      <td>Comment: Why Israel's peaceniks feel betrayed</td>\n",
       "      <td>Court deals blow to seizure of drug assets</td>\n",
       "      <td>An ideal target for spooks</td>\n",
       "      <td>World steps between two sides intent on war</td>\n",
       "      <td>What the region's papers say</td>\n",
       "      <td>Comment: Fear and rage in Palestine</td>\n",
       "      <td>Poverty and resentment fuels Palestinian fury</td>\n",
       "      <td>Republican feud fear as dissident is killed</td>\n",
       "      <td>The flood: Low-lying homes may become uninsurable</td>\n",
       "      <td>...</td>\n",
       "      <td>FTSE goes upwardly mobile</td>\n",
       "      <td>At this price?  BP Amoco</td>\n",
       "      <td>Go fish</td>\n",
       "      <td>Bosnian Serb blows himself up to evade law</td>\n",
       "      <td>Orange float delayed to 2001</td>\n",
       "      <td>Angry factory workers root out fear, favours a...</td>\n",
       "      <td>Smith defied advice on dome payout</td>\n",
       "      <td>Xerox takes the axe to jobs</td>\n",
       "      <td>Comment: Refugees in Britain</td>\n",
       "      <td>Maverick who sparked the new intifada</td>\n",
       "    </tr>\n",
       "    <tr>\n",
       "      <th>3</th>\n",
       "      <td>1</td>\n",
       "      <td>£750,000-a-goal Weah aims parting shot</td>\n",
       "      <td>Newcastle pay for Fletcher years</td>\n",
       "      <td>Brown sent to the stands for Scotland qualifier</td>\n",
       "      <td>Tourists wary of breaking new ground</td>\n",
       "      <td>Canary Wharf climbs into the FTSE 100</td>\n",
       "      <td>Review: Bill Bailey</td>\n",
       "      <td>Review: Classical</td>\n",
       "      <td>Review: New Contemporaries 2000</td>\n",
       "      <td>Empty gestures from Halifax</td>\n",
       "      <td>...</td>\n",
       "      <td>More cash on way for counties</td>\n",
       "      <td>Cairns carries Kiwis to victory</td>\n",
       "      <td>Year of Blanchflower's flourish when Spurs sto...</td>\n",
       "      <td>New direct approach brings only pay-per-blues</td>\n",
       "      <td>Third Division  round-up</td>\n",
       "      <td>Second Division  round-up</td>\n",
       "      <td>First Division  round-up</td>\n",
       "      <td>McLean ends his career with a punch</td>\n",
       "      <td>Heskey grabs triple crown</td>\n",
       "      <td>Weah on his way as City march on</td>\n",
       "    </tr>\n",
       "    <tr>\n",
       "      <th>4</th>\n",
       "      <td>1</td>\n",
       "      <td>Leeds arrive in Turkey to the silence of the fans</td>\n",
       "      <td>One woman's vision offers loan lifeline</td>\n",
       "      <td>Working Lives: How world leaders worked</td>\n",
       "      <td>Working Lives: Tricks of the trade</td>\n",
       "      <td>Working Lives: six-hour days, long lunches and...</td>\n",
       "      <td>Pop review: We Love UK</td>\n",
       "      <td>World music review: Marisa Monte</td>\n",
       "      <td>Art review:  Hollingsworth/Heyer</td>\n",
       "      <td>Classical review: Prokina/ Skigin</td>\n",
       "      <td>...</td>\n",
       "      <td>Duisenberg in double trouble</td>\n",
       "      <td>Pru to cut pension charges</td>\n",
       "      <td>Art review: Paul Graham</td>\n",
       "      <td>Shearer shot sparks Boro humiliation</td>\n",
       "      <td>Ridsdale's lingering fears as Leeds revisit Tu...</td>\n",
       "      <td>Champions League: Rangers v Galatasaray</td>\n",
       "      <td>Champions League: Lazio v Arsenal</td>\n",
       "      <td>Lazio 1 - 1 Arsenal</td>\n",
       "      <td>England in Pakistan</td>\n",
       "      <td>England given olive-branch reception</td>\n",
       "    </tr>\n",
       "    <tr>\n",
       "      <th>...</th>\n",
       "      <td>...</td>\n",
       "      <td>...</td>\n",
       "      <td>...</td>\n",
       "      <td>...</td>\n",
       "      <td>...</td>\n",
       "      <td>...</td>\n",
       "      <td>...</td>\n",
       "      <td>...</td>\n",
       "      <td>...</td>\n",
       "      <td>...</td>\n",
       "      <td>...</td>\n",
       "      <td>...</td>\n",
       "      <td>...</td>\n",
       "      <td>...</td>\n",
       "      <td>...</td>\n",
       "      <td>...</td>\n",
       "      <td>...</td>\n",
       "      <td>...</td>\n",
       "      <td>...</td>\n",
       "      <td>...</td>\n",
       "      <td>...</td>\n",
       "    </tr>\n",
       "    <tr>\n",
       "      <th>4096</th>\n",
       "      <td>0</td>\n",
       "      <td>Barclays and RBS shares suspended from trading...</td>\n",
       "      <td>Pope says Church should ask forgiveness from g...</td>\n",
       "      <td>Poland 'shocked' by xenophobic abuse of Poles ...</td>\n",
       "      <td>There will be no second referendum, cabinet ag...</td>\n",
       "      <td>Scotland welcome to join EU, Merkel ally says</td>\n",
       "      <td>Sterling dips below Friday's 31-year low amid ...</td>\n",
       "      <td>No negative news about South African President...</td>\n",
       "      <td>Surge in Hate Crimes in the U.K. Following U.K...</td>\n",
       "      <td>Weapons shipped into Jordan by the CIA and Sau...</td>\n",
       "      <td>...</td>\n",
       "      <td>German lawyers to probe Erdogan over alleged w...</td>\n",
       "      <td>Boris Johnson says the UK will continue to \"in...</td>\n",
       "      <td>Richard Branson is calling on the UK governmen...</td>\n",
       "      <td>Turkey 'sorry for downing Russian jet'</td>\n",
       "      <td>Edward Snowden lawyer vows new push for pardon...</td>\n",
       "      <td>Brexit opinion poll reveals majority don't wan...</td>\n",
       "      <td>Conservative MP Leave Campaigner: \"The leave c...</td>\n",
       "      <td>Economists predict UK recession, further weake...</td>\n",
       "      <td>New EU 'superstate plan by France, Germany: Cr...</td>\n",
       "      <td>Pakistani clerics declare transgender marriage...</td>\n",
       "    </tr>\n",
       "    <tr>\n",
       "      <th>4097</th>\n",
       "      <td>1</td>\n",
       "      <td>2,500 Scientists To Australia: If You Want To ...</td>\n",
       "      <td>The personal details of 112,000 French police ...</td>\n",
       "      <td>S&amp;amp;P cuts United Kingdom sovereign credit r...</td>\n",
       "      <td>Huge helium deposit found in Africa</td>\n",
       "      <td>CEO of the South African state broadcaster qui...</td>\n",
       "      <td>Brexit cost investors $2 trillion, the worst o...</td>\n",
       "      <td>Hong Kong democracy activists call for return ...</td>\n",
       "      <td>Brexit: Iceland president says UK can join 'tr...</td>\n",
       "      <td>UK's Osborne: 'Absolutely' going to have to cu...</td>\n",
       "      <td>...</td>\n",
       "      <td>US, Canada and Mexico pledge 50% of power from...</td>\n",
       "      <td>There is increasing evidence that Australia is...</td>\n",
       "      <td>Richard Branson, the founder of Virgin Group, ...</td>\n",
       "      <td>37,000-yr-old skull from Borneo reveals surpri...</td>\n",
       "      <td>Palestinians stone Western Wall worshipers; po...</td>\n",
       "      <td>Jean-Claude Juncker asks Farage: Why are you h...</td>\n",
       "      <td>\"Romanians for Remainians\" offering a new home...</td>\n",
       "      <td>Brexit: Gibraltar in talks with Scotland to st...</td>\n",
       "      <td>8 Suicide Bombers Strike Lebanon</td>\n",
       "      <td>Mexico's security forces routinely use 'sexual...</td>\n",
       "    </tr>\n",
       "    <tr>\n",
       "      <th>4098</th>\n",
       "      <td>1</td>\n",
       "      <td>Explosion At Airport In Istanbul</td>\n",
       "      <td>Yemeni former president: Terrorism is the offs...</td>\n",
       "      <td>UK must accept freedom of movement to access E...</td>\n",
       "      <td>Devastated: scientists too late to captive bre...</td>\n",
       "      <td>British Labor Party leader Jeremy Corbyn loses...</td>\n",
       "      <td>A Muslim Shop in the UK Was Just Firebombed Wh...</td>\n",
       "      <td>Mexican Authorities Sexually Torture Women in ...</td>\n",
       "      <td>UK shares and pound continue to recover</td>\n",
       "      <td>Iceland historian Johannesson wins presidentia...</td>\n",
       "      <td>...</td>\n",
       "      <td>Escape Tunnel, Dug by Hand, Is Found at Holoca...</td>\n",
       "      <td>The land under Beijing is sinking by as much a...</td>\n",
       "      <td>Car bomb and Anti-Islamic attack on Mosque in ...</td>\n",
       "      <td>Emaciated lions in Taiz Zoo are trapped in blo...</td>\n",
       "      <td>Rupert Murdoch describes Brexit as 'wonderful'...</td>\n",
       "      <td>More than 40 killed in Yemen suicide attacks</td>\n",
       "      <td>Google Found Disastrous Symantec and Norton Vu...</td>\n",
       "      <td>Extremist violence on the rise in Germany: Dom...</td>\n",
       "      <td>BBC News: Labour MPs pass Corbyn no-confidence...</td>\n",
       "      <td>Tiny New Zealand town with 'too many jobs' lau...</td>\n",
       "    </tr>\n",
       "    <tr>\n",
       "      <th>4099</th>\n",
       "      <td>1</td>\n",
       "      <td>Jamaica proposes marijuana dispensers for tour...</td>\n",
       "      <td>Stephen Hawking says pollution and 'stupidity'...</td>\n",
       "      <td>Boris Johnson says he will not run for Tory pa...</td>\n",
       "      <td>Six gay men in Ivory Coast were abused and for...</td>\n",
       "      <td>Switzerland denies citizenship to Muslim immig...</td>\n",
       "      <td>Palestinian terrorist stabs israeli teen girl ...</td>\n",
       "      <td>Puerto Rico will default on $1 billion of debt...</td>\n",
       "      <td>Republic of Ireland fans to be awarded medal f...</td>\n",
       "      <td>Afghan suicide bomber 'kills up to 40' - BBC News</td>\n",
       "      <td>...</td>\n",
       "      <td>Googles free wifi at Indian railway stations i...</td>\n",
       "      <td>Mounting evidence suggests 'hobbits' were wipe...</td>\n",
       "      <td>The men who carried out Tuesday's terror attac...</td>\n",
       "      <td>Calls to suspend Saudi Arabia from UN Human Ri...</td>\n",
       "      <td>More Than 100 Nobel Laureates Call Out Greenpe...</td>\n",
       "      <td>British pedophile sentenced to 85 years in US ...</td>\n",
       "      <td>US permitted 1,200 offshore fracks in Gulf of ...</td>\n",
       "      <td>We will be swimming in ridicule - French beach...</td>\n",
       "      <td>UEFA says no minutes of silence for Istanbul v...</td>\n",
       "      <td>Law Enforcement Sources: Gun Used in Paris Ter...</td>\n",
       "    </tr>\n",
       "    <tr>\n",
       "      <th>4100</th>\n",
       "      <td>1</td>\n",
       "      <td>A 117-year-old woman in Mexico City finally re...</td>\n",
       "      <td>IMF chief backs Athens as permanent Olympic host</td>\n",
       "      <td>The president of France says if Brexit won, so...</td>\n",
       "      <td>British Man Who Must Give Police 24 Hours' Not...</td>\n",
       "      <td>100+ Nobel laureates urge Greenpeace to stop o...</td>\n",
       "      <td>Brazil: Huge spike in number of police killing...</td>\n",
       "      <td>Austria's highest court annuls presidential el...</td>\n",
       "      <td>Facebook wins privacy case, can track any Belg...</td>\n",
       "      <td>Switzerland denies Muslim girls citizenship af...</td>\n",
       "      <td>...</td>\n",
       "      <td>The United States has placed Myanmar, Uzbekist...</td>\n",
       "      <td>S&amp;amp;P revises European Union credit rating t...</td>\n",
       "      <td>India gets $1 billion loan from World Bank for...</td>\n",
       "      <td>U.S. sailors detained by Iran spoke too much u...</td>\n",
       "      <td>Mass fish kill in Vietnam solved as Taiwan ste...</td>\n",
       "      <td>Philippines president Rodrigo Duterte urges pe...</td>\n",
       "      <td>Spain arrests three Pakistanis accused of prom...</td>\n",
       "      <td>Venezuela, where anger over food shortages is ...</td>\n",
       "      <td>A Hindu temple worker has been killed by three...</td>\n",
       "      <td>Ozone layer hole seems to be healing - US &amp;amp...</td>\n",
       "    </tr>\n",
       "  </tbody>\n",
       "</table>\n",
       "<p>4101 rows × 26 columns</p>\n",
       "</div>"
      ],
      "text/plain": [
       "      Label                                             News 1  \\\n",
       "0         0           McIlroy's men catch cold from Gudjonsson   \n",
       "1         0               Warning from history points to crash   \n",
       "2         0      Comment: Why Israel's peaceniks feel betrayed   \n",
       "3         1             £750,000-a-goal Weah aims parting shot   \n",
       "4         1  Leeds arrive in Turkey to the silence of the fans   \n",
       "...     ...                                                ...   \n",
       "4096      0  Barclays and RBS shares suspended from trading...   \n",
       "4097      1  2,500 Scientists To Australia: If You Want To ...   \n",
       "4098      1                   Explosion At Airport In Istanbul   \n",
       "4099      1  Jamaica proposes marijuana dispensers for tour...   \n",
       "4100      1  A 117-year-old woman in Mexico City finally re...   \n",
       "\n",
       "                                                 News 2  \\\n",
       "0                                 Obituary: Brian Walsh   \n",
       "1                        Investors flee to dollar haven   \n",
       "2            Court deals blow to seizure of drug assets   \n",
       "3                      Newcastle pay for Fletcher years   \n",
       "4               One woman's vision offers loan lifeline   \n",
       "...                                                 ...   \n",
       "4096  Pope says Church should ask forgiveness from g...   \n",
       "4097  The personal details of 112,000 French police ...   \n",
       "4098  Yemeni former president: Terrorism is the offs...   \n",
       "4099  Stephen Hawking says pollution and 'stupidity'...   \n",
       "4100   IMF chief backs Athens as permanent Olympic host   \n",
       "\n",
       "                                                 News 3  \\\n",
       "0            Workplace blues leave employers in the red   \n",
       "1                           Banks and tobacco in favour   \n",
       "2                            An ideal target for spooks   \n",
       "3       Brown sent to the stands for Scotland qualifier   \n",
       "4               Working Lives: How world leaders worked   \n",
       "...                                                 ...   \n",
       "4096  Poland 'shocked' by xenophobic abuse of Poles ...   \n",
       "4097  S&amp;P cuts United Kingdom sovereign credit r...   \n",
       "4098  UK must accept freedom of movement to access E...   \n",
       "4099  Boris Johnson says he will not run for Tory pa...   \n",
       "4100  The president of France says if Brexit won, so...   \n",
       "\n",
       "                                                 News 4  \\\n",
       "0                              Classical review: Rattle   \n",
       "1                                 Review: Llama Farmers   \n",
       "2           World steps between two sides intent on war   \n",
       "3                  Tourists wary of breaking new ground   \n",
       "4                    Working Lives: Tricks of the trade   \n",
       "...                                                 ...   \n",
       "4096  There will be no second referendum, cabinet ag...   \n",
       "4097                Huge helium deposit found in Africa   \n",
       "4098  Devastated: scientists too late to captive bre...   \n",
       "4099  Six gay men in Ivory Coast were abused and for...   \n",
       "4100  British Man Who Must Give Police 24 Hours' Not...   \n",
       "\n",
       "                                                 News 5  \\\n",
       "0                        Dance review: Merce Cunningham   \n",
       "1                          War jitters lead to sell-off   \n",
       "2                          What the region's papers say   \n",
       "3                 Canary Wharf climbs into the FTSE 100   \n",
       "4     Working Lives: six-hour days, long lunches and...   \n",
       "...                                                 ...   \n",
       "4096      Scotland welcome to join EU, Merkel ally says   \n",
       "4097  CEO of the South African state broadcaster qui...   \n",
       "4098  British Labor Party leader Jeremy Corbyn loses...   \n",
       "4099  Switzerland denies citizenship to Muslim immig...   \n",
       "4100  100+ Nobel laureates urge Greenpeace to stop o...   \n",
       "\n",
       "                                                 News 6  \\\n",
       "0          Genetic tests to be used in setting premiums   \n",
       "1                            Your not-so-secret history   \n",
       "2                   Comment: Fear and rage in Palestine   \n",
       "3                                   Review: Bill Bailey   \n",
       "4                                Pop review: We Love UK   \n",
       "...                                                 ...   \n",
       "4096  Sterling dips below Friday's 31-year low amid ...   \n",
       "4097  Brexit cost investors $2 trillion, the worst o...   \n",
       "4098  A Muslim Shop in the UK Was Just Firebombed Wh...   \n",
       "4099  Palestinian terrorist stabs israeli teen girl ...   \n",
       "4100  Brazil: Huge spike in number of police killing...   \n",
       "\n",
       "                                                 News 7  \\\n",
       "0                               Opera review: La Bohème   \n",
       "1                         Review: The Northern Sinfonia   \n",
       "2         Poverty and resentment fuels Palestinian fury   \n",
       "3                                     Review: Classical   \n",
       "4                      World music review: Marisa Monte   \n",
       "...                                                 ...   \n",
       "4096  No negative news about South African President...   \n",
       "4097  Hong Kong democracy activists call for return ...   \n",
       "4098  Mexican Authorities Sexually Torture Women in ...   \n",
       "4099  Puerto Rico will default on $1 billion of debt...   \n",
       "4100  Austria's highest court annuls presidential el...   \n",
       "\n",
       "                                                 News 8  \\\n",
       "0                            Pop review: Britney Spears   \n",
       "1                                      Review: Hysteria   \n",
       "2           Republican feud fear as dissident is killed   \n",
       "3                       Review: New Contemporaries 2000   \n",
       "4                      Art review:  Hollingsworth/Heyer   \n",
       "...                                                 ...   \n",
       "4096  Surge in Hate Crimes in the U.K. Following U.K...   \n",
       "4097  Brexit: Iceland president says UK can join 'tr...   \n",
       "4098            UK shares and pound continue to recover   \n",
       "4099  Republic of Ireland fans to be awarded medal f...   \n",
       "4100  Facebook wins privacy case, can track any Belg...   \n",
       "\n",
       "                                                 News 9  ...  \\\n",
       "0                            Theatre review: The Circle  ...   \n",
       "1                                 Review: The Guardsman  ...   \n",
       "2     The flood: Low-lying homes may become uninsurable  ...   \n",
       "3                           Empty gestures from Halifax  ...   \n",
       "4                     Classical review: Prokina/ Skigin  ...   \n",
       "...                                                 ...  ...   \n",
       "4096  Weapons shipped into Jordan by the CIA and Sau...  ...   \n",
       "4097  UK's Osborne: 'Absolutely' going to have to cu...  ...   \n",
       "4098  Iceland historian Johannesson wins presidentia...  ...   \n",
       "4099  Afghan suicide bomber 'kills up to 40' - BBC News  ...   \n",
       "4100  Switzerland denies Muslim girls citizenship af...  ...   \n",
       "\n",
       "                                                News 16  \\\n",
       "0                                 Finland 0 - 0 England   \n",
       "1                  Why Wenger will stick to his Gunners   \n",
       "2                             FTSE goes upwardly mobile   \n",
       "3                         More cash on way for counties   \n",
       "4                          Duisenberg in double trouble   \n",
       "...                                                 ...   \n",
       "4096  German lawyers to probe Erdogan over alleged w...   \n",
       "4097  US, Canada and Mexico pledge 50% of power from...   \n",
       "4098  Escape Tunnel, Dug by Hand, Is Found at Holoca...   \n",
       "4099  Googles free wifi at Indian railway stations i...   \n",
       "4100  The United States has placed Myanmar, Uzbekist...   \n",
       "\n",
       "                                                News 17  \\\n",
       "0                                    Healy a marked man   \n",
       "1                   Out of luck England hit rock bottom   \n",
       "2                              At this price?  BP Amoco   \n",
       "3                       Cairns carries Kiwis to victory   \n",
       "4                            Pru to cut pension charges   \n",
       "...                                                 ...   \n",
       "4096  Boris Johnson says the UK will continue to \"in...   \n",
       "4097  There is increasing evidence that Australia is...   \n",
       "4098  The land under Beijing is sinking by as much a...   \n",
       "4099  Mounting evidence suggests 'hobbits' were wipe...   \n",
       "4100  S&amp;P revises European Union credit rating t...   \n",
       "\n",
       "                                                News 18  \\\n",
       "0                        Happy birthday Harpers & Queen   \n",
       "1                            Wilkinson out of his depth   \n",
       "2                                               Go fish   \n",
       "3     Year of Blanchflower's flourish when Spurs sto...   \n",
       "4                               Art review: Paul Graham   \n",
       "...                                                 ...   \n",
       "4096  Richard Branson is calling on the UK governmen...   \n",
       "4097  Richard Branson, the founder of Virgin Group, ...   \n",
       "4098  Car bomb and Anti-Islamic attack on Mosque in ...   \n",
       "4099  The men who carried out Tuesday's terror attac...   \n",
       "4100  India gets $1 billion loan from World Bank for...   \n",
       "\n",
       "                                                News 19  \\\n",
       "0     Win unlimited access to the Raindance film fes...   \n",
       "1                      Kinsella sparks Irish power play   \n",
       "2            Bosnian Serb blows himself up to evade law   \n",
       "3         New direct approach brings only pay-per-blues   \n",
       "4                  Shearer shot sparks Boro humiliation   \n",
       "...                                                 ...   \n",
       "4096             Turkey 'sorry for downing Russian jet'   \n",
       "4097  37,000-yr-old skull from Borneo reveals surpri...   \n",
       "4098  Emaciated lions in Taiz Zoo are trapped in blo...   \n",
       "4099  Calls to suspend Saudi Arabia from UN Human Ri...   \n",
       "4100  U.S. sailors detained by Iran spoke too much u...   \n",
       "\n",
       "                                                News 20  \\\n",
       "0     Labour pledges £800m to bridge north-south divide   \n",
       "1                       Brown banished as Scots rebound   \n",
       "2                          Orange float delayed to 2001   \n",
       "3                              Third Division  round-up   \n",
       "4     Ridsdale's lingering fears as Leeds revisit Tu...   \n",
       "...                                                 ...   \n",
       "4096  Edward Snowden lawyer vows new push for pardon...   \n",
       "4097  Palestinians stone Western Wall worshipers; po...   \n",
       "4098  Rupert Murdoch describes Brexit as 'wonderful'...   \n",
       "4099  More Than 100 Nobel Laureates Call Out Greenpe...   \n",
       "4100  Mass fish kill in Vietnam solved as Taiwan ste...   \n",
       "\n",
       "                                                News 21  \\\n",
       "0          Wales: Lib-Lab pact firm despite resignation   \n",
       "1                      Battling Wales cling to lifeline   \n",
       "2     Angry factory workers root out fear, favours a...   \n",
       "3                             Second Division  round-up   \n",
       "4               Champions League: Rangers v Galatasaray   \n",
       "...                                                 ...   \n",
       "4096  Brexit opinion poll reveals majority don't wan...   \n",
       "4097  Jean-Claude Juncker asks Farage: Why are you h...   \n",
       "4098       More than 40 killed in Yemen suicide attacks   \n",
       "4099  British pedophile sentenced to 85 years in US ...   \n",
       "4100  Philippines president Rodrigo Duterte urges pe...   \n",
       "\n",
       "                                                News 22  \\\n",
       "0                                          Donald Dewar   \n",
       "1                     Ehiogu close to sealing Boro move   \n",
       "2                    Smith defied advice on dome payout   \n",
       "3                              First Division  round-up   \n",
       "4                     Champions League: Lazio v Arsenal   \n",
       "...                                                 ...   \n",
       "4096  Conservative MP Leave Campaigner: \"The leave c...   \n",
       "4097  \"Romanians for Remainians\" offering a new home...   \n",
       "4098  Google Found Disastrous Symantec and Norton Vu...   \n",
       "4099  US permitted 1,200 offshore fracks in Gulf of ...   \n",
       "4100  Spain arrests three Pakistanis accused of prom...   \n",
       "\n",
       "                                                News 23  \\\n",
       "0     Regenerating homes  regenerates well-being in ...   \n",
       "1                                    Man-to-man marking   \n",
       "2                           Xerox takes the axe to jobs   \n",
       "3                   McLean ends his career with a punch   \n",
       "4                                   Lazio 1 - 1 Arsenal   \n",
       "...                                                 ...   \n",
       "4096  Economists predict UK recession, further weake...   \n",
       "4097  Brexit: Gibraltar in talks with Scotland to st...   \n",
       "4098  Extremist violence on the rise in Germany: Dom...   \n",
       "4099  We will be swimming in ridicule - French beach...   \n",
       "4100  Venezuela, where anger over food shortages is ...   \n",
       "\n",
       "                                                News 24  \\\n",
       "0                           Win £100 worth of underwear   \n",
       "1                                           Match stats   \n",
       "2                          Comment: Refugees in Britain   \n",
       "3                             Heskey grabs triple crown   \n",
       "4                                   England in Pakistan   \n",
       "...                                                 ...   \n",
       "4096  New EU 'superstate plan by France, Germany: Cr...   \n",
       "4097                   8 Suicide Bombers Strike Lebanon   \n",
       "4098  BBC News: Labour MPs pass Corbyn no-confidence...   \n",
       "4099  UEFA says no minutes of silence for Istanbul v...   \n",
       "4100  A Hindu temple worker has been killed by three...   \n",
       "\n",
       "                                                News 25  \n",
       "0                                TV guide: Random views  \n",
       "1     French referee at centre of storm is no strang...  \n",
       "2                 Maverick who sparked the new intifada  \n",
       "3                      Weah on his way as City march on  \n",
       "4                  England given olive-branch reception  \n",
       "...                                                 ...  \n",
       "4096  Pakistani clerics declare transgender marriage...  \n",
       "4097  Mexico's security forces routinely use 'sexual...  \n",
       "4098  Tiny New Zealand town with 'too many jobs' lau...  \n",
       "4099  Law Enforcement Sources: Gun Used in Paris Ter...  \n",
       "4100  Ozone layer hole seems to be healing - US &amp...  \n",
       "\n",
       "[4101 rows x 26 columns]"
      ]
     },
     "execution_count": 6,
     "metadata": {},
     "output_type": "execute_result"
    }
   ],
   "source": [
    "data.drop(['Date'],axis='columns')"
   ]
  },
  {
   "cell_type": "code",
   "execution_count": 7,
   "id": "52d25ac7",
   "metadata": {
    "execution": {
     "iopub.execute_input": "2023-12-06T22:34:21.674320Z",
     "iopub.status.busy": "2023-12-06T22:34:21.674042Z",
     "iopub.status.idle": "2023-12-06T22:34:21.744620Z",
     "shell.execute_reply": "2023-12-06T22:34:21.743979Z"
    },
    "papermill": {
     "duration": 0.085577,
     "end_time": "2023-12-06T22:34:21.746445",
     "exception": false,
     "start_time": "2023-12-06T22:34:21.660868",
     "status": "completed"
    },
    "tags": []
   },
   "outputs": [],
   "source": [
    "from datetime import datetime\n",
    "L=[]\n",
    "for i in data['Date']:\n",
    "    date_input = i\n",
    "    datetimeobject = datetime.strptime(date_input,'%d-%m-%Y')\n",
    "    i= datetimeobject.strftime('%Y-%m-%d')\n",
    "    L.append(i)\n",
    "data['Date']=L"
   ]
  },
  {
   "cell_type": "code",
   "execution_count": 8,
   "id": "a6b9de10",
   "metadata": {
    "execution": {
     "iopub.execute_input": "2023-12-06T22:34:21.770282Z",
     "iopub.status.busy": "2023-12-06T22:34:21.770011Z",
     "iopub.status.idle": "2023-12-06T22:34:21.788508Z",
     "shell.execute_reply": "2023-12-06T22:34:21.787655Z"
    },
    "papermill": {
     "duration": 0.032723,
     "end_time": "2023-12-06T22:34:21.790627",
     "exception": false,
     "start_time": "2023-12-06T22:34:21.757904",
     "status": "completed"
    },
    "tags": []
   },
   "outputs": [
    {
     "data": {
      "text/html": [
       "<div>\n",
       "<style scoped>\n",
       "    .dataframe tbody tr th:only-of-type {\n",
       "        vertical-align: middle;\n",
       "    }\n",
       "\n",
       "    .dataframe tbody tr th {\n",
       "        vertical-align: top;\n",
       "    }\n",
       "\n",
       "    .dataframe thead th {\n",
       "        text-align: right;\n",
       "    }\n",
       "</style>\n",
       "<table border=\"1\" class=\"dataframe\">\n",
       "  <thead>\n",
       "    <tr style=\"text-align: right;\">\n",
       "      <th></th>\n",
       "      <th>Date</th>\n",
       "      <th>Label</th>\n",
       "      <th>News 1</th>\n",
       "      <th>News 2</th>\n",
       "      <th>News 3</th>\n",
       "      <th>News 4</th>\n",
       "      <th>News 5</th>\n",
       "      <th>News 6</th>\n",
       "      <th>News 7</th>\n",
       "      <th>News 8</th>\n",
       "      <th>...</th>\n",
       "      <th>News 16</th>\n",
       "      <th>News 17</th>\n",
       "      <th>News 18</th>\n",
       "      <th>News 19</th>\n",
       "      <th>News 20</th>\n",
       "      <th>News 21</th>\n",
       "      <th>News 22</th>\n",
       "      <th>News 23</th>\n",
       "      <th>News 24</th>\n",
       "      <th>News 25</th>\n",
       "    </tr>\n",
       "  </thead>\n",
       "  <tbody>\n",
       "    <tr>\n",
       "      <th>0</th>\n",
       "      <td>2010-01-01</td>\n",
       "      <td>0</td>\n",
       "      <td>McIlroy's men catch cold from Gudjonsson</td>\n",
       "      <td>Obituary: Brian Walsh</td>\n",
       "      <td>Workplace blues leave employers in the red</td>\n",
       "      <td>Classical review: Rattle</td>\n",
       "      <td>Dance review: Merce Cunningham</td>\n",
       "      <td>Genetic tests to be used in setting premiums</td>\n",
       "      <td>Opera review: La Bohème</td>\n",
       "      <td>Pop review: Britney Spears</td>\n",
       "      <td>...</td>\n",
       "      <td>Finland 0 - 0 England</td>\n",
       "      <td>Healy a marked man</td>\n",
       "      <td>Happy birthday Harpers &amp; Queen</td>\n",
       "      <td>Win unlimited access to the Raindance film fes...</td>\n",
       "      <td>Labour pledges £800m to bridge north-south divide</td>\n",
       "      <td>Wales: Lib-Lab pact firm despite resignation</td>\n",
       "      <td>Donald Dewar</td>\n",
       "      <td>Regenerating homes  regenerates well-being in ...</td>\n",
       "      <td>Win £100 worth of underwear</td>\n",
       "      <td>TV guide: Random views</td>\n",
       "    </tr>\n",
       "    <tr>\n",
       "      <th>1</th>\n",
       "      <td>2010-01-02</td>\n",
       "      <td>0</td>\n",
       "      <td>Warning from history points to crash</td>\n",
       "      <td>Investors flee to dollar haven</td>\n",
       "      <td>Banks and tobacco in favour</td>\n",
       "      <td>Review: Llama Farmers</td>\n",
       "      <td>War jitters lead to sell-off</td>\n",
       "      <td>Your not-so-secret history</td>\n",
       "      <td>Review: The Northern Sinfonia</td>\n",
       "      <td>Review: Hysteria</td>\n",
       "      <td>...</td>\n",
       "      <td>Why Wenger will stick to his Gunners</td>\n",
       "      <td>Out of luck England hit rock bottom</td>\n",
       "      <td>Wilkinson out of his depth</td>\n",
       "      <td>Kinsella sparks Irish power play</td>\n",
       "      <td>Brown banished as Scots rebound</td>\n",
       "      <td>Battling Wales cling to lifeline</td>\n",
       "      <td>Ehiogu close to sealing Boro move</td>\n",
       "      <td>Man-to-man marking</td>\n",
       "      <td>Match stats</td>\n",
       "      <td>French referee at centre of storm is no strang...</td>\n",
       "    </tr>\n",
       "  </tbody>\n",
       "</table>\n",
       "<p>2 rows × 27 columns</p>\n",
       "</div>"
      ],
      "text/plain": [
       "         Date  Label                                    News 1  \\\n",
       "0  2010-01-01      0  McIlroy's men catch cold from Gudjonsson   \n",
       "1  2010-01-02      0      Warning from history points to crash   \n",
       "\n",
       "                           News 2                                      News 3  \\\n",
       "0           Obituary: Brian Walsh  Workplace blues leave employers in the red   \n",
       "1  Investors flee to dollar haven                 Banks and tobacco in favour   \n",
       "\n",
       "                     News 4                          News 5  \\\n",
       "0  Classical review: Rattle  Dance review: Merce Cunningham   \n",
       "1     Review: Llama Farmers    War jitters lead to sell-off   \n",
       "\n",
       "                                         News 6  \\\n",
       "0  Genetic tests to be used in setting premiums   \n",
       "1                    Your not-so-secret history   \n",
       "\n",
       "                          News 7                      News 8  ...  \\\n",
       "0        Opera review: La Bohème  Pop review: Britney Spears  ...   \n",
       "1  Review: The Northern Sinfonia            Review: Hysteria  ...   \n",
       "\n",
       "                                News 16                              News 17  \\\n",
       "0                 Finland 0 - 0 England                   Healy a marked man   \n",
       "1  Why Wenger will stick to his Gunners  Out of luck England hit rock bottom   \n",
       "\n",
       "                          News 18  \\\n",
       "0  Happy birthday Harpers & Queen   \n",
       "1      Wilkinson out of his depth   \n",
       "\n",
       "                                             News 19  \\\n",
       "0  Win unlimited access to the Raindance film fes...   \n",
       "1                   Kinsella sparks Irish power play   \n",
       "\n",
       "                                             News 20  \\\n",
       "0  Labour pledges £800m to bridge north-south divide   \n",
       "1                    Brown banished as Scots rebound   \n",
       "\n",
       "                                        News 21  \\\n",
       "0  Wales: Lib-Lab pact firm despite resignation   \n",
       "1              Battling Wales cling to lifeline   \n",
       "\n",
       "                             News 22  \\\n",
       "0                       Donald Dewar   \n",
       "1  Ehiogu close to sealing Boro move   \n",
       "\n",
       "                                             News 23  \\\n",
       "0  Regenerating homes  regenerates well-being in ...   \n",
       "1                                 Man-to-man marking   \n",
       "\n",
       "                       News 24  \\\n",
       "0  Win £100 worth of underwear   \n",
       "1                  Match stats   \n",
       "\n",
       "                                             News 25  \n",
       "0                             TV guide: Random views  \n",
       "1  French referee at centre of storm is no strang...  \n",
       "\n",
       "[2 rows x 27 columns]"
      ]
     },
     "execution_count": 8,
     "metadata": {},
     "output_type": "execute_result"
    }
   ],
   "source": [
    "data.head(2)"
   ]
  },
  {
   "cell_type": "code",
   "execution_count": 9,
   "id": "768153af",
   "metadata": {
    "execution": {
     "iopub.execute_input": "2023-12-06T22:34:21.815754Z",
     "iopub.status.busy": "2023-12-06T22:34:21.815519Z",
     "iopub.status.idle": "2023-12-06T22:34:21.827300Z",
     "shell.execute_reply": "2023-12-06T22:34:21.826460Z"
    },
    "papermill": {
     "duration": 0.026263,
     "end_time": "2023-12-06T22:34:21.829232",
     "exception": false,
     "start_time": "2023-12-06T22:34:21.802969",
     "status": "completed"
    },
    "tags": []
   },
   "outputs": [
    {
     "data": {
      "text/plain": [
       "((814, 27), (3652, 27))"
      ]
     },
     "execution_count": 9,
     "metadata": {},
     "output_type": "execute_result"
    }
   ],
   "source": [
    "train=data[data['Date']<'20190101']\n",
    "test=data[data['Date']>'20181231']\n",
    "# train=data[data['Date']<'20150101']\n",
    "# test=data[data['Date']>'20141231']\n",
    "test.shape,train.shape"
   ]
  },
  {
   "cell_type": "markdown",
   "id": "0074d511",
   "metadata": {
    "papermill": {
     "duration": 0.01153,
     "end_time": "2023-12-06T22:34:21.852935",
     "exception": false,
     "start_time": "2023-12-06T22:34:21.841405",
     "status": "completed"
    },
    "tags": []
   },
   "source": [
    "# **DATA CLEANING**"
   ]
  },
  {
   "cell_type": "code",
   "execution_count": 10,
   "id": "930caffb",
   "metadata": {
    "execution": {
     "iopub.execute_input": "2023-12-06T22:34:21.877484Z",
     "iopub.status.busy": "2023-12-06T22:34:21.877242Z",
     "iopub.status.idle": "2023-12-06T22:34:22.548226Z",
     "shell.execute_reply": "2023-12-06T22:34:22.547308Z"
    },
    "papermill": {
     "duration": 0.685728,
     "end_time": "2023-12-06T22:34:22.550455",
     "exception": false,
     "start_time": "2023-12-06T22:34:21.864727",
     "status": "completed"
    },
    "tags": []
   },
   "outputs": [
    {
     "data": {
      "text/html": [
       "<div>\n",
       "<style scoped>\n",
       "    .dataframe tbody tr th:only-of-type {\n",
       "        vertical-align: middle;\n",
       "    }\n",
       "\n",
       "    .dataframe tbody tr th {\n",
       "        vertical-align: top;\n",
       "    }\n",
       "\n",
       "    .dataframe thead th {\n",
       "        text-align: right;\n",
       "    }\n",
       "</style>\n",
       "<table border=\"1\" class=\"dataframe\">\n",
       "  <thead>\n",
       "    <tr style=\"text-align: right;\">\n",
       "      <th></th>\n",
       "      <th>0</th>\n",
       "      <th>1</th>\n",
       "      <th>2</th>\n",
       "      <th>3</th>\n",
       "      <th>4</th>\n",
       "      <th>5</th>\n",
       "      <th>6</th>\n",
       "      <th>7</th>\n",
       "      <th>8</th>\n",
       "      <th>9</th>\n",
       "      <th>...</th>\n",
       "      <th>15</th>\n",
       "      <th>16</th>\n",
       "      <th>17</th>\n",
       "      <th>18</th>\n",
       "      <th>19</th>\n",
       "      <th>20</th>\n",
       "      <th>21</th>\n",
       "      <th>22</th>\n",
       "      <th>23</th>\n",
       "      <th>24</th>\n",
       "    </tr>\n",
       "  </thead>\n",
       "  <tbody>\n",
       "    <tr>\n",
       "      <th>0</th>\n",
       "      <td>McIlroy s men catch cold from Gudjonsson</td>\n",
       "      <td>Obituary  Brian Walsh</td>\n",
       "      <td>Workplace blues leave employers in the red</td>\n",
       "      <td>Classical review  Rattle</td>\n",
       "      <td>Dance review  Merce Cunningham</td>\n",
       "      <td>Genetic tests to be used in setting premiums</td>\n",
       "      <td>Opera review  La Boh me</td>\n",
       "      <td>Pop review  Britney Spears</td>\n",
       "      <td>Theatre review  The Circle</td>\n",
       "      <td>Wales face a fraught night</td>\n",
       "      <td>...</td>\n",
       "      <td>Finland       England</td>\n",
       "      <td>Healy a marked man</td>\n",
       "      <td>Happy birthday Harpers   Queen</td>\n",
       "      <td>Win unlimited access to the Raindance film fes...</td>\n",
       "      <td>Labour pledges     m to bridge north south divide</td>\n",
       "      <td>Wales  Lib Lab pact firm despite resignation</td>\n",
       "      <td>Donald Dewar</td>\n",
       "      <td>Regenerating homes  regenerates well being in ...</td>\n",
       "      <td>Win      worth of underwear</td>\n",
       "      <td>TV guide  Random views</td>\n",
       "    </tr>\n",
       "    <tr>\n",
       "      <th>1</th>\n",
       "      <td>Warning from history points to crash</td>\n",
       "      <td>Investors flee to dollar haven</td>\n",
       "      <td>Banks and tobacco in favour</td>\n",
       "      <td>Review  Llama Farmers</td>\n",
       "      <td>War jitters lead to sell off</td>\n",
       "      <td>Your not so secret history</td>\n",
       "      <td>Review  The Northern Sinfonia</td>\n",
       "      <td>Review  Hysteria</td>\n",
       "      <td>Review  The Guardsman</td>\n",
       "      <td>Opera  The Marriage of Figaro</td>\n",
       "      <td>...</td>\n",
       "      <td>Why Wenger will stick to his Gunners</td>\n",
       "      <td>Out of luck England hit rock bottom</td>\n",
       "      <td>Wilkinson out of his depth</td>\n",
       "      <td>Kinsella sparks Irish power play</td>\n",
       "      <td>Brown banished as Scots rebound</td>\n",
       "      <td>Battling Wales cling to lifeline</td>\n",
       "      <td>Ehiogu close to sealing Boro move</td>\n",
       "      <td>Man to man marking</td>\n",
       "      <td>Match stats</td>\n",
       "      <td>French referee at centre of storm is no strang...</td>\n",
       "    </tr>\n",
       "  </tbody>\n",
       "</table>\n",
       "<p>2 rows × 25 columns</p>\n",
       "</div>"
      ],
      "text/plain": [
       "                                          0                               1  \\\n",
       "0  McIlroy s men catch cold from Gudjonsson           Obituary  Brian Walsh   \n",
       "1      Warning from history points to crash  Investors flee to dollar haven   \n",
       "\n",
       "                                            2                         3  \\\n",
       "0  Workplace blues leave employers in the red  Classical review  Rattle   \n",
       "1                 Banks and tobacco in favour     Review  Llama Farmers   \n",
       "\n",
       "                                4  \\\n",
       "0  Dance review  Merce Cunningham   \n",
       "1    War jitters lead to sell off   \n",
       "\n",
       "                                              5  \\\n",
       "0  Genetic tests to be used in setting premiums   \n",
       "1                    Your not so secret history   \n",
       "\n",
       "                               6                           7  \\\n",
       "0        Opera review  La Boh me  Pop review  Britney Spears   \n",
       "1  Review  The Northern Sinfonia            Review  Hysteria   \n",
       "\n",
       "                            8                              9  ...  \\\n",
       "0  Theatre review  The Circle     Wales face a fraught night  ...   \n",
       "1       Review  The Guardsman  Opera  The Marriage of Figaro  ...   \n",
       "\n",
       "                                     15                                   16  \\\n",
       "0                 Finland       England                   Healy a marked man   \n",
       "1  Why Wenger will stick to his Gunners  Out of luck England hit rock bottom   \n",
       "\n",
       "                               17  \\\n",
       "0  Happy birthday Harpers   Queen   \n",
       "1      Wilkinson out of his depth   \n",
       "\n",
       "                                                  18  \\\n",
       "0  Win unlimited access to the Raindance film fes...   \n",
       "1                   Kinsella sparks Irish power play   \n",
       "\n",
       "                                                  19  \\\n",
       "0  Labour pledges     m to bridge north south divide   \n",
       "1                    Brown banished as Scots rebound   \n",
       "\n",
       "                                             20  \\\n",
       "0  Wales  Lib Lab pact firm despite resignation   \n",
       "1              Battling Wales cling to lifeline   \n",
       "\n",
       "                                  21  \\\n",
       "0                       Donald Dewar   \n",
       "1  Ehiogu close to sealing Boro move   \n",
       "\n",
       "                                                  22  \\\n",
       "0  Regenerating homes  regenerates well being in ...   \n",
       "1                                 Man to man marking   \n",
       "\n",
       "                            23  \\\n",
       "0  Win      worth of underwear   \n",
       "1                  Match stats   \n",
       "\n",
       "                                                  24  \n",
       "0                             TV guide  Random views  \n",
       "1  French referee at centre of storm is no strang...  \n",
       "\n",
       "[2 rows x 25 columns]"
      ]
     },
     "execution_count": 10,
     "metadata": {},
     "output_type": "execute_result"
    }
   ],
   "source": [
    "#Removing Punctuation\n",
    "data_new=train.iloc[:,2:27]\n",
    "data_new.replace(\"[^a-zA-Z]\",\" \",regex=True,inplace=True)\n",
    "\n",
    "#Renaming Column names for ease of access\n",
    "list_new=[i for i in range(25)]\n",
    "new_ind=[str(i) for i in list_new]\n",
    "data_new.columns=new_ind\n",
    "data_new.head(2)"
   ]
  },
  {
   "cell_type": "code",
   "execution_count": 11,
   "id": "52f01332",
   "metadata": {
    "execution": {
     "iopub.execute_input": "2023-12-06T22:34:22.577132Z",
     "iopub.status.busy": "2023-12-06T22:34:22.576819Z",
     "iopub.status.idle": "2023-12-06T22:34:22.646698Z",
     "shell.execute_reply": "2023-12-06T22:34:22.645835Z"
    },
    "papermill": {
     "duration": 0.084822,
     "end_time": "2023-12-06T22:34:22.648564",
     "exception": false,
     "start_time": "2023-12-06T22:34:22.563742",
     "status": "completed"
    },
    "tags": []
   },
   "outputs": [
    {
     "data": {
      "text/html": [
       "<div>\n",
       "<style scoped>\n",
       "    .dataframe tbody tr th:only-of-type {\n",
       "        vertical-align: middle;\n",
       "    }\n",
       "\n",
       "    .dataframe tbody tr th {\n",
       "        vertical-align: top;\n",
       "    }\n",
       "\n",
       "    .dataframe thead th {\n",
       "        text-align: right;\n",
       "    }\n",
       "</style>\n",
       "<table border=\"1\" class=\"dataframe\">\n",
       "  <thead>\n",
       "    <tr style=\"text-align: right;\">\n",
       "      <th></th>\n",
       "      <th>0</th>\n",
       "      <th>1</th>\n",
       "      <th>2</th>\n",
       "      <th>3</th>\n",
       "      <th>4</th>\n",
       "      <th>5</th>\n",
       "      <th>6</th>\n",
       "      <th>7</th>\n",
       "      <th>8</th>\n",
       "      <th>9</th>\n",
       "      <th>...</th>\n",
       "      <th>15</th>\n",
       "      <th>16</th>\n",
       "      <th>17</th>\n",
       "      <th>18</th>\n",
       "      <th>19</th>\n",
       "      <th>20</th>\n",
       "      <th>21</th>\n",
       "      <th>22</th>\n",
       "      <th>23</th>\n",
       "      <th>24</th>\n",
       "    </tr>\n",
       "  </thead>\n",
       "  <tbody>\n",
       "    <tr>\n",
       "      <th>0</th>\n",
       "      <td>mcilroy s men catch cold from gudjonsson</td>\n",
       "      <td>obituary  brian walsh</td>\n",
       "      <td>workplace blues leave employers in the red</td>\n",
       "      <td>classical review  rattle</td>\n",
       "      <td>dance review  merce cunningham</td>\n",
       "      <td>genetic tests to be used in setting premiums</td>\n",
       "      <td>opera review  la boh me</td>\n",
       "      <td>pop review  britney spears</td>\n",
       "      <td>theatre review  the circle</td>\n",
       "      <td>wales face a fraught night</td>\n",
       "      <td>...</td>\n",
       "      <td>finland       england</td>\n",
       "      <td>healy a marked man</td>\n",
       "      <td>happy birthday harpers   queen</td>\n",
       "      <td>win unlimited access to the raindance film fes...</td>\n",
       "      <td>labour pledges     m to bridge north south divide</td>\n",
       "      <td>wales  lib lab pact firm despite resignation</td>\n",
       "      <td>donald dewar</td>\n",
       "      <td>regenerating homes  regenerates well being in ...</td>\n",
       "      <td>win      worth of underwear</td>\n",
       "      <td>tv guide  random views</td>\n",
       "    </tr>\n",
       "  </tbody>\n",
       "</table>\n",
       "<p>1 rows × 25 columns</p>\n",
       "</div>"
      ],
      "text/plain": [
       "                                          0                      1  \\\n",
       "0  mcilroy s men catch cold from gudjonsson  obituary  brian walsh   \n",
       "\n",
       "                                            2                         3  \\\n",
       "0  workplace blues leave employers in the red  classical review  rattle   \n",
       "\n",
       "                                4  \\\n",
       "0  dance review  merce cunningham   \n",
       "\n",
       "                                              5                        6  \\\n",
       "0  genetic tests to be used in setting premiums  opera review  la boh me   \n",
       "\n",
       "                            7                           8  \\\n",
       "0  pop review  britney spears  theatre review  the circle   \n",
       "\n",
       "                            9  ...                     15                  16  \\\n",
       "0  wales face a fraught night  ...  finland       england  healy a marked man   \n",
       "\n",
       "                               17  \\\n",
       "0  happy birthday harpers   queen   \n",
       "\n",
       "                                                  18  \\\n",
       "0  win unlimited access to the raindance film fes...   \n",
       "\n",
       "                                                  19  \\\n",
       "0  labour pledges     m to bridge north south divide   \n",
       "\n",
       "                                             20            21  \\\n",
       "0  wales  lib lab pact firm despite resignation  donald dewar   \n",
       "\n",
       "                                                  22  \\\n",
       "0  regenerating homes  regenerates well being in ...   \n",
       "\n",
       "                            23                      24  \n",
       "0  win      worth of underwear  tv guide  random views  \n",
       "\n",
       "[1 rows x 25 columns]"
      ]
     },
     "execution_count": 11,
     "metadata": {},
     "output_type": "execute_result"
    }
   ],
   "source": [
    "#Converting headlines to lower case\n",
    "for index in new_ind:\n",
    "    data_new[index]=data_new[index].str.lower()\n",
    "data_new.head(1)"
   ]
  },
  {
   "cell_type": "code",
   "execution_count": 12,
   "id": "a47edcec",
   "metadata": {
    "execution": {
     "iopub.execute_input": "2023-12-06T22:34:22.676155Z",
     "iopub.status.busy": "2023-12-06T22:34:22.675842Z",
     "iopub.status.idle": "2023-12-06T22:34:23.645615Z",
     "shell.execute_reply": "2023-12-06T22:34:23.644876Z"
    },
    "papermill": {
     "duration": 0.986517,
     "end_time": "2023-12-06T22:34:23.647845",
     "exception": false,
     "start_time": "2023-12-06T22:34:22.661328",
     "status": "completed"
    },
    "tags": []
   },
   "outputs": [],
   "source": [
    "#Joining all the sentences of the individual rows\n",
    "headlines=[]\n",
    "for i in range(0,len(data_new.index)):\n",
    "    headlines.append(' '.join(str(x) for x in data_new.iloc[i,0:25]))\n",
    "    headlines[i]=re.sub(' +',\" \",headlines[i])"
   ]
  },
  {
   "cell_type": "code",
   "execution_count": 13,
   "id": "075a3c57",
   "metadata": {
    "execution": {
     "iopub.execute_input": "2023-12-06T22:34:23.674205Z",
     "iopub.status.busy": "2023-12-06T22:34:23.673850Z",
     "iopub.status.idle": "2023-12-06T22:34:23.679095Z",
     "shell.execute_reply": "2023-12-06T22:34:23.678227Z"
    },
    "papermill": {
     "duration": 0.020563,
     "end_time": "2023-12-06T22:34:23.681199",
     "exception": false,
     "start_time": "2023-12-06T22:34:23.660636",
     "status": "completed"
    },
    "tags": []
   },
   "outputs": [
    {
     "name": "stdout",
     "output_type": "stream",
     "text": [
      "leeds arrive in turkey to the silence of the fans one woman s vision offers loan lifeline working lives how world leaders worked working lives tricks of the trade working lives six hour days long lunches and evenings pop review we love uk world music review marisa monte art review hollingsworth heyer classical review prokina skigin theatre review hades theatre review the dispute the critic theatre review twelfth night consumers start to get a conscience richard vinen s top history books bill s up for office surfers duisenberg in double trouble pru to cut pension charges art review paul graham shearer shot sparks boro humiliation ridsdale s lingering fears as leeds revisit turkey champions league rangers v galatasaray champions league lazio v arsenal lazio arsenal england in pakistan england given olive branch reception\n"
     ]
    }
   ],
   "source": [
    "#Example\n",
    "print(headlines[4])"
   ]
  },
  {
   "cell_type": "markdown",
   "id": "8863d90f",
   "metadata": {
    "papermill": {
     "duration": 0.012385,
     "end_time": "2023-12-06T22:34:23.706128",
     "exception": false,
     "start_time": "2023-12-06T22:34:23.693743",
     "status": "completed"
    },
    "tags": []
   },
   "source": [
    "# **Feature Selection**"
   ]
  },
  {
   "cell_type": "code",
   "execution_count": 14,
   "id": "66a706f4",
   "metadata": {
    "execution": {
     "iopub.execute_input": "2023-12-06T22:34:23.732244Z",
     "iopub.status.busy": "2023-12-06T22:34:23.731967Z",
     "iopub.status.idle": "2023-12-06T22:34:25.226679Z",
     "shell.execute_reply": "2023-12-06T22:34:25.225727Z"
    },
    "papermill": {
     "duration": 1.510149,
     "end_time": "2023-12-06T22:34:25.228925",
     "exception": false,
     "start_time": "2023-12-06T22:34:23.718776",
     "status": "completed"
    },
    "tags": []
   },
   "outputs": [
    {
     "name": "stderr",
     "output_type": "stream",
     "text": [
      "/opt/conda/lib/python3.10/site-packages/scipy/__init__.py:146: UserWarning: A NumPy version >=1.16.5 and <1.23.0 is required for this version of SciPy (detected version 1.23.5\n",
      "  warnings.warn(f\"A NumPy version >={np_minversion} and <{np_maxversion}\"\n"
     ]
    }
   ],
   "source": [
    "from sklearn.feature_extraction.text import CountVectorizer\n",
    "from sklearn.ensemble import RandomForestClassifier"
   ]
  },
  {
   "cell_type": "code",
   "execution_count": 15,
   "id": "0d9598e2",
   "metadata": {
    "execution": {
     "iopub.execute_input": "2023-12-06T22:34:25.255634Z",
     "iopub.status.busy": "2023-12-06T22:34:25.255339Z",
     "iopub.status.idle": "2023-12-06T22:34:28.378092Z",
     "shell.execute_reply": "2023-12-06T22:34:28.377130Z"
    },
    "papermill": {
     "duration": 3.138725,
     "end_time": "2023-12-06T22:34:28.380648",
     "exception": false,
     "start_time": "2023-12-06T22:34:25.241923",
     "status": "completed"
    },
    "tags": []
   },
   "outputs": [],
   "source": [
    "#Implement Bag of Words\n",
    "cv=CountVectorizer(lowercase=True,ngram_range=(2,2))\n",
    "traindataset=cv.fit_transform(headlines)"
   ]
  },
  {
   "cell_type": "code",
   "execution_count": 16,
   "id": "7233fd66",
   "metadata": {
    "execution": {
     "iopub.execute_input": "2023-12-06T22:34:28.407627Z",
     "iopub.status.busy": "2023-12-06T22:34:28.407327Z",
     "iopub.status.idle": "2023-12-06T22:34:28.413332Z",
     "shell.execute_reply": "2023-12-06T22:34:28.412516Z"
    },
    "papermill": {
     "duration": 0.021493,
     "end_time": "2023-12-06T22:34:28.415273",
     "exception": false,
     "start_time": "2023-12-06T22:34:28.393780",
     "status": "completed"
    },
    "tags": []
   },
   "outputs": [
    {
     "data": {
      "text/plain": [
       "<1x527703 sparse matrix of type '<class 'numpy.int64'>'\n",
       "\twith 119 stored elements in Compressed Sparse Row format>"
      ]
     },
     "execution_count": 16,
     "metadata": {},
     "output_type": "execute_result"
    }
   ],
   "source": [
    "traindataset[0]"
   ]
  },
  {
   "cell_type": "code",
   "execution_count": 17,
   "id": "57c36568",
   "metadata": {
    "execution": {
     "iopub.execute_input": "2023-12-06T22:34:28.441797Z",
     "iopub.status.busy": "2023-12-06T22:34:28.441335Z",
     "iopub.status.idle": "2023-12-06T22:35:03.290039Z",
     "shell.execute_reply": "2023-12-06T22:35:03.289129Z"
    },
    "papermill": {
     "duration": 34.876723,
     "end_time": "2023-12-06T22:35:03.304622",
     "exception": false,
     "start_time": "2023-12-06T22:34:28.427899",
     "status": "completed"
    },
    "tags": []
   },
   "outputs": [
    {
     "data": {
      "text/html": [
       "<style>#sk-container-id-1 {color: black;background-color: white;}#sk-container-id-1 pre{padding: 0;}#sk-container-id-1 div.sk-toggleable {background-color: white;}#sk-container-id-1 label.sk-toggleable__label {cursor: pointer;display: block;width: 100%;margin-bottom: 0;padding: 0.3em;box-sizing: border-box;text-align: center;}#sk-container-id-1 label.sk-toggleable__label-arrow:before {content: \"▸\";float: left;margin-right: 0.25em;color: #696969;}#sk-container-id-1 label.sk-toggleable__label-arrow:hover:before {color: black;}#sk-container-id-1 div.sk-estimator:hover label.sk-toggleable__label-arrow:before {color: black;}#sk-container-id-1 div.sk-toggleable__content {max-height: 0;max-width: 0;overflow: hidden;text-align: left;background-color: #f0f8ff;}#sk-container-id-1 div.sk-toggleable__content pre {margin: 0.2em;color: black;border-radius: 0.25em;background-color: #f0f8ff;}#sk-container-id-1 input.sk-toggleable__control:checked~div.sk-toggleable__content {max-height: 200px;max-width: 100%;overflow: auto;}#sk-container-id-1 input.sk-toggleable__control:checked~label.sk-toggleable__label-arrow:before {content: \"▾\";}#sk-container-id-1 div.sk-estimator input.sk-toggleable__control:checked~label.sk-toggleable__label {background-color: #d4ebff;}#sk-container-id-1 div.sk-label input.sk-toggleable__control:checked~label.sk-toggleable__label {background-color: #d4ebff;}#sk-container-id-1 input.sk-hidden--visually {border: 0;clip: rect(1px 1px 1px 1px);clip: rect(1px, 1px, 1px, 1px);height: 1px;margin: -1px;overflow: hidden;padding: 0;position: absolute;width: 1px;}#sk-container-id-1 div.sk-estimator {font-family: monospace;background-color: #f0f8ff;border: 1px dotted black;border-radius: 0.25em;box-sizing: border-box;margin-bottom: 0.5em;}#sk-container-id-1 div.sk-estimator:hover {background-color: #d4ebff;}#sk-container-id-1 div.sk-parallel-item::after {content: \"\";width: 100%;border-bottom: 1px solid gray;flex-grow: 1;}#sk-container-id-1 div.sk-label:hover label.sk-toggleable__label {background-color: #d4ebff;}#sk-container-id-1 div.sk-serial::before {content: \"\";position: absolute;border-left: 1px solid gray;box-sizing: border-box;top: 0;bottom: 0;left: 50%;z-index: 0;}#sk-container-id-1 div.sk-serial {display: flex;flex-direction: column;align-items: center;background-color: white;padding-right: 0.2em;padding-left: 0.2em;position: relative;}#sk-container-id-1 div.sk-item {position: relative;z-index: 1;}#sk-container-id-1 div.sk-parallel {display: flex;align-items: stretch;justify-content: center;background-color: white;position: relative;}#sk-container-id-1 div.sk-item::before, #sk-container-id-1 div.sk-parallel-item::before {content: \"\";position: absolute;border-left: 1px solid gray;box-sizing: border-box;top: 0;bottom: 0;left: 50%;z-index: -1;}#sk-container-id-1 div.sk-parallel-item {display: flex;flex-direction: column;z-index: 1;position: relative;background-color: white;}#sk-container-id-1 div.sk-parallel-item:first-child::after {align-self: flex-end;width: 50%;}#sk-container-id-1 div.sk-parallel-item:last-child::after {align-self: flex-start;width: 50%;}#sk-container-id-1 div.sk-parallel-item:only-child::after {width: 0;}#sk-container-id-1 div.sk-dashed-wrapped {border: 1px dashed gray;margin: 0 0.4em 0.5em 0.4em;box-sizing: border-box;padding-bottom: 0.4em;background-color: white;}#sk-container-id-1 div.sk-label label {font-family: monospace;font-weight: bold;display: inline-block;line-height: 1.2em;}#sk-container-id-1 div.sk-label-container {text-align: center;}#sk-container-id-1 div.sk-container {/* jupyter's `normalize.less` sets `[hidden] { display: none; }` but bootstrap.min.css set `[hidden] { display: none !important; }` so we also need the `!important` here to be able to override the default hidden behavior on the sphinx rendered scikit-learn.org. See: https://github.com/scikit-learn/scikit-learn/issues/21755 */display: inline-block !important;position: relative;}#sk-container-id-1 div.sk-text-repr-fallback {display: none;}</style><div id=\"sk-container-id-1\" class=\"sk-top-container\"><div class=\"sk-text-repr-fallback\"><pre>RandomForestClassifier(criterion=&#x27;entropy&#x27;, n_estimators=200)</pre><b>In a Jupyter environment, please rerun this cell to show the HTML representation or trust the notebook. <br />On GitHub, the HTML representation is unable to render, please try loading this page with nbviewer.org.</b></div><div class=\"sk-container\" hidden><div class=\"sk-item\"><div class=\"sk-estimator sk-toggleable\"><input class=\"sk-toggleable__control sk-hidden--visually\" id=\"sk-estimator-id-1\" type=\"checkbox\" checked><label for=\"sk-estimator-id-1\" class=\"sk-toggleable__label sk-toggleable__label-arrow\">RandomForestClassifier</label><div class=\"sk-toggleable__content\"><pre>RandomForestClassifier(criterion=&#x27;entropy&#x27;, n_estimators=200)</pre></div></div></div></div></div>"
      ],
      "text/plain": [
       "RandomForestClassifier(criterion='entropy', n_estimators=200)"
      ]
     },
     "execution_count": 17,
     "metadata": {},
     "output_type": "execute_result"
    }
   ],
   "source": [
    "#implement Random Forest Classifier\n",
    "randomclassifier=RandomForestClassifier(n_estimators=200,criterion='entropy')\n",
    "randomclassifier.fit(traindataset,train['Label'])"
   ]
  },
  {
   "cell_type": "code",
   "execution_count": 18,
   "id": "0bb33fa3",
   "metadata": {
    "execution": {
     "iopub.execute_input": "2023-12-06T22:35:03.331618Z",
     "iopub.status.busy": "2023-12-06T22:35:03.331307Z",
     "iopub.status.idle": "2023-12-06T22:35:04.596627Z",
     "shell.execute_reply": "2023-12-06T22:35:04.595623Z"
    },
    "papermill": {
     "duration": 1.281679,
     "end_time": "2023-12-06T22:35:04.599219",
     "exception": false,
     "start_time": "2023-12-06T22:35:03.317540",
     "status": "completed"
    },
    "tags": []
   },
   "outputs": [],
   "source": [
    "#Predict for test data\n",
    "test_transform=[]\n",
    "for row in range(0,len(test.index)):\n",
    "    test_transform.append(''.join(str(x) for x in test.iloc[row,2:27]))\n",
    "    test_transform[row]=re.sub(' +',\" \",test_transform[row])\n",
    "test_data=cv.transform(test_transform)\n",
    "prediction=randomclassifier.predict(test_data)"
   ]
  },
  {
   "cell_type": "markdown",
   "id": "eebbd6ac",
   "metadata": {
    "papermill": {
     "duration": 0.012965,
     "end_time": "2023-12-06T22:35:04.626096",
     "exception": false,
     "start_time": "2023-12-06T22:35:04.613131",
     "status": "completed"
    },
    "tags": []
   },
   "source": [
    "# **Accuracy Checking**"
   ]
  },
  {
   "cell_type": "code",
   "execution_count": 19,
   "id": "637ae467",
   "metadata": {
    "execution": {
     "iopub.execute_input": "2023-12-06T22:35:04.653143Z",
     "iopub.status.busy": "2023-12-06T22:35:04.652823Z",
     "iopub.status.idle": "2023-12-06T22:35:04.657346Z",
     "shell.execute_reply": "2023-12-06T22:35:04.656401Z"
    },
    "papermill": {
     "duration": 0.020398,
     "end_time": "2023-12-06T22:35:04.659310",
     "exception": false,
     "start_time": "2023-12-06T22:35:04.638912",
     "status": "completed"
    },
    "tags": []
   },
   "outputs": [],
   "source": [
    "from sklearn.metrics import confusion_matrix,classification_report,accuracy_score"
   ]
  },
  {
   "cell_type": "code",
   "execution_count": 20,
   "id": "a0629e26",
   "metadata": {
    "execution": {
     "iopub.execute_input": "2023-12-06T22:35:04.687253Z",
     "iopub.status.busy": "2023-12-06T22:35:04.686968Z",
     "iopub.status.idle": "2023-12-06T22:35:04.705282Z",
     "shell.execute_reply": "2023-12-06T22:35:04.704129Z"
    },
    "papermill": {
     "duration": 0.034493,
     "end_time": "2023-12-06T22:35:04.707420",
     "exception": false,
     "start_time": "2023-12-06T22:35:04.672927",
     "status": "completed"
    },
    "tags": []
   },
   "outputs": [
    {
     "name": "stdout",
     "output_type": "stream",
     "text": [
      "[[181 200]\n",
      " [ 13 420]]\n",
      "0.7383292383292384\n",
      "              precision    recall  f1-score   support\n",
      "\n",
      "           0       0.93      0.48      0.63       381\n",
      "           1       0.68      0.97      0.80       433\n",
      "\n",
      "    accuracy                           0.74       814\n",
      "   macro avg       0.81      0.72      0.71       814\n",
      "weighted avg       0.80      0.74      0.72       814\n",
      "\n"
     ]
    }
   ],
   "source": [
    "matrix=confusion_matrix(test['Label'],prediction)\n",
    "print(matrix)\n",
    "score=accuracy_score(test['Label'],prediction)\n",
    "print(score)\n",
    "report=classification_report(test['Label'],prediction)\n",
    "print(report)"
   ]
  },
  {
   "cell_type": "markdown",
   "id": "dad75ad4",
   "metadata": {
    "papermill": {
     "duration": 0.01283,
     "end_time": "2023-12-06T22:35:04.733969",
     "exception": false,
     "start_time": "2023-12-06T22:35:04.721139",
     "status": "completed"
    },
    "tags": []
   },
   "source": [
    "# **Using CNN**"
   ]
  },
  {
   "cell_type": "code",
   "execution_count": 21,
   "id": "69579886",
   "metadata": {
    "execution": {
     "iopub.execute_input": "2023-12-06T22:35:04.762404Z",
     "iopub.status.busy": "2023-12-06T22:35:04.762141Z",
     "iopub.status.idle": "2023-12-06T22:35:14.333402Z",
     "shell.execute_reply": "2023-12-06T22:35:14.332599Z"
    },
    "papermill": {
     "duration": 9.587914,
     "end_time": "2023-12-06T22:35:14.335620",
     "exception": false,
     "start_time": "2023-12-06T22:35:04.747706",
     "status": "completed"
    },
    "tags": []
   },
   "outputs": [
    {
     "name": "stderr",
     "output_type": "stream",
     "text": [
      "/opt/conda/lib/python3.10/site-packages/tensorflow_io/python/ops/__init__.py:98: UserWarning: unable to load libtensorflow_io_plugins.so: unable to open file: libtensorflow_io_plugins.so, from paths: ['/opt/conda/lib/python3.10/site-packages/tensorflow_io/python/ops/libtensorflow_io_plugins.so']\n",
      "caused by: ['/opt/conda/lib/python3.10/site-packages/tensorflow_io/python/ops/libtensorflow_io_plugins.so: undefined symbol: _ZN3tsl6StatusC1EN10tensorflow5error4CodeESt17basic_string_viewIcSt11char_traitsIcEENS_14SourceLocationE']\n",
      "  warnings.warn(f\"unable to load libtensorflow_io_plugins.so: {e}\")\n",
      "/opt/conda/lib/python3.10/site-packages/tensorflow_io/python/ops/__init__.py:104: UserWarning: file system plugins are not loaded: unable to open file: libtensorflow_io.so, from paths: ['/opt/conda/lib/python3.10/site-packages/tensorflow_io/python/ops/libtensorflow_io.so']\n",
      "caused by: ['/opt/conda/lib/python3.10/site-packages/tensorflow_io/python/ops/libtensorflow_io.so: undefined symbol: _ZTVN10tensorflow13GcsFileSystemE']\n",
      "  warnings.warn(f\"file system plugins are not loaded: {e}\")\n"
     ]
    }
   ],
   "source": [
    "import tensorflow as tf\n",
    "from tensorflow.keras.preprocessing.text import Tokenizer\n",
    "from tensorflow.keras.preprocessing.sequence import pad_sequences\n",
    "from sklearn.model_selection import train_test_split"
   ]
  },
  {
   "cell_type": "code",
   "execution_count": 22,
   "id": "cde90318",
   "metadata": {
    "execution": {
     "iopub.execute_input": "2023-12-06T22:35:14.363904Z",
     "iopub.status.busy": "2023-12-06T22:35:14.363338Z",
     "iopub.status.idle": "2023-12-06T22:35:14.400764Z",
     "shell.execute_reply": "2023-12-06T22:35:14.400100Z"
    },
    "papermill": {
     "duration": 0.053296,
     "end_time": "2023-12-06T22:35:14.402714",
     "exception": false,
     "start_time": "2023-12-06T22:35:14.349418",
     "status": "completed"
    },
    "tags": []
   },
   "outputs": [],
   "source": [
    "data=pd.read_csv('/kaggle/input/sentiment-analysis-for-financial-news/all-data.csv',names=['Reaction','News'],encoding='ISO-8859-1')"
   ]
  },
  {
   "cell_type": "code",
   "execution_count": 23,
   "id": "9e5ab170",
   "metadata": {
    "execution": {
     "iopub.execute_input": "2023-12-06T22:35:14.430941Z",
     "iopub.status.busy": "2023-12-06T22:35:14.430685Z",
     "iopub.status.idle": "2023-12-06T22:35:14.438768Z",
     "shell.execute_reply": "2023-12-06T22:35:14.437869Z"
    },
    "papermill": {
     "duration": 0.023836,
     "end_time": "2023-12-06T22:35:14.440734",
     "exception": false,
     "start_time": "2023-12-06T22:35:14.416898",
     "status": "completed"
    },
    "tags": []
   },
   "outputs": [
    {
     "data": {
      "text/html": [
       "<div>\n",
       "<style scoped>\n",
       "    .dataframe tbody tr th:only-of-type {\n",
       "        vertical-align: middle;\n",
       "    }\n",
       "\n",
       "    .dataframe tbody tr th {\n",
       "        vertical-align: top;\n",
       "    }\n",
       "\n",
       "    .dataframe thead th {\n",
       "        text-align: right;\n",
       "    }\n",
       "</style>\n",
       "<table border=\"1\" class=\"dataframe\">\n",
       "  <thead>\n",
       "    <tr style=\"text-align: right;\">\n",
       "      <th></th>\n",
       "      <th>Reaction</th>\n",
       "      <th>News</th>\n",
       "    </tr>\n",
       "  </thead>\n",
       "  <tbody>\n",
       "    <tr>\n",
       "      <th>0</th>\n",
       "      <td>neutral</td>\n",
       "      <td>According to Gran , the company has no plans t...</td>\n",
       "    </tr>\n",
       "    <tr>\n",
       "      <th>1</th>\n",
       "      <td>neutral</td>\n",
       "      <td>Technopolis plans to develop in stages an area...</td>\n",
       "    </tr>\n",
       "    <tr>\n",
       "      <th>2</th>\n",
       "      <td>negative</td>\n",
       "      <td>The international electronic industry company ...</td>\n",
       "    </tr>\n",
       "  </tbody>\n",
       "</table>\n",
       "</div>"
      ],
      "text/plain": [
       "   Reaction                                               News\n",
       "0   neutral  According to Gran , the company has no plans t...\n",
       "1   neutral  Technopolis plans to develop in stages an area...\n",
       "2  negative  The international electronic industry company ..."
      ]
     },
     "execution_count": 23,
     "metadata": {},
     "output_type": "execute_result"
    }
   ],
   "source": [
    "data.head(3)"
   ]
  },
  {
   "cell_type": "code",
   "execution_count": 24,
   "id": "eb4ef859",
   "metadata": {
    "execution": {
     "iopub.execute_input": "2023-12-06T22:35:14.469064Z",
     "iopub.status.busy": "2023-12-06T22:35:14.468724Z",
     "iopub.status.idle": "2023-12-06T22:35:14.488971Z",
     "shell.execute_reply": "2023-12-06T22:35:14.488050Z"
    },
    "papermill": {
     "duration": 0.036319,
     "end_time": "2023-12-06T22:35:14.490913",
     "exception": false,
     "start_time": "2023-12-06T22:35:14.454594",
     "status": "completed"
    },
    "tags": []
   },
   "outputs": [
    {
     "name": "stdout",
     "output_type": "stream",
     "text": [
      "<class 'pandas.core.frame.DataFrame'>\n",
      "RangeIndex: 4846 entries, 0 to 4845\n",
      "Data columns (total 2 columns):\n",
      " #   Column    Non-Null Count  Dtype \n",
      "---  ------    --------------  ----- \n",
      " 0   Reaction  4846 non-null   object\n",
      " 1   News      4846 non-null   object\n",
      "dtypes: object(2)\n",
      "memory usage: 75.8+ KB\n"
     ]
    }
   ],
   "source": [
    "data.info()"
   ]
  },
  {
   "cell_type": "code",
   "execution_count": 25,
   "id": "b77dfba0",
   "metadata": {
    "execution": {
     "iopub.execute_input": "2023-12-06T22:35:14.518633Z",
     "iopub.status.busy": "2023-12-06T22:35:14.518366Z",
     "iopub.status.idle": "2023-12-06T22:35:14.523348Z",
     "shell.execute_reply": "2023-12-06T22:35:14.522578Z"
    },
    "papermill": {
     "duration": 0.020834,
     "end_time": "2023-12-06T22:35:14.525261",
     "exception": false,
     "start_time": "2023-12-06T22:35:14.504427",
     "status": "completed"
    },
    "tags": []
   },
   "outputs": [],
   "source": [
    "def get_sequences(texts):\n",
    "    tokenizer=Tokenizer()\n",
    "    tokenizer.fit_on_texts(texts)\n",
    "    sequences=tokenizer.texts_to_sequences(texts)\n",
    "    max_seq_length=np.max(list(map(lambda x:len(x), sequences)))\n",
    "    sequences=pad_sequences(sequences,maxlen=max_seq_length,padding='post')\n",
    "    return sequences"
   ]
  },
  {
   "cell_type": "code",
   "execution_count": 26,
   "id": "07a13d67",
   "metadata": {
    "execution": {
     "iopub.execute_input": "2023-12-06T22:35:14.553106Z",
     "iopub.status.busy": "2023-12-06T22:35:14.552828Z",
     "iopub.status.idle": "2023-12-06T22:35:14.824731Z",
     "shell.execute_reply": "2023-12-06T22:35:14.823874Z"
    },
    "papermill": {
     "duration": 0.287982,
     "end_time": "2023-12-06T22:35:14.826609",
     "exception": false,
     "start_time": "2023-12-06T22:35:14.538627",
     "status": "completed"
    },
    "tags": []
   },
   "outputs": [
    {
     "data": {
      "text/plain": [
       "(4846, 71)"
      ]
     },
     "execution_count": 26,
     "metadata": {},
     "output_type": "execute_result"
    }
   ],
   "source": [
    "get_sequences(data['News']).shape"
   ]
  },
  {
   "cell_type": "code",
   "execution_count": 27,
   "id": "d1722292",
   "metadata": {
    "execution": {
     "iopub.execute_input": "2023-12-06T22:35:14.854879Z",
     "iopub.status.busy": "2023-12-06T22:35:14.854635Z",
     "iopub.status.idle": "2023-12-06T22:35:14.860682Z",
     "shell.execute_reply": "2023-12-06T22:35:14.859304Z"
    },
    "papermill": {
     "duration": 0.022907,
     "end_time": "2023-12-06T22:35:14.863281",
     "exception": false,
     "start_time": "2023-12-06T22:35:14.840374",
     "status": "completed"
    },
    "tags": []
   },
   "outputs": [],
   "source": [
    "def preprocess_inputs(df):\n",
    "    df=df.copy()\n",
    "    sequences=get_sequences(df['News'])\n",
    "    \n",
    "    label_mapping={\n",
    "        'negative':0,\n",
    "        'positive':1,\n",
    "        'neutral':2\n",
    "    }\n",
    "    y=df['Reaction'].replace(label_mapping)\n",
    "    \n",
    "    X_train,X_test,y_train,y_test=train_test_split(sequences,y,train_size=0.7,shuffle=True,random_state=1)\n",
    "    return X_train,X_test,y_train,y_test"
   ]
  },
  {
   "cell_type": "code",
   "execution_count": 28,
   "id": "40dc2392",
   "metadata": {
    "execution": {
     "iopub.execute_input": "2023-12-06T22:35:14.891424Z",
     "iopub.status.busy": "2023-12-06T22:35:14.891159Z",
     "iopub.status.idle": "2023-12-06T22:35:15.162423Z",
     "shell.execute_reply": "2023-12-06T22:35:15.161610Z"
    },
    "papermill": {
     "duration": 0.287508,
     "end_time": "2023-12-06T22:35:15.164309",
     "exception": false,
     "start_time": "2023-12-06T22:35:14.876801",
     "status": "completed"
    },
    "tags": []
   },
   "outputs": [],
   "source": [
    "X_train,X_test,y_train,y_test=preprocess_inputs(data)"
   ]
  },
  {
   "cell_type": "code",
   "execution_count": 29,
   "id": "b604d760",
   "metadata": {
    "execution": {
     "iopub.execute_input": "2023-12-06T22:35:15.192924Z",
     "iopub.status.busy": "2023-12-06T22:35:15.192672Z",
     "iopub.status.idle": "2023-12-06T22:35:15.198392Z",
     "shell.execute_reply": "2023-12-06T22:35:15.197557Z"
    },
    "papermill": {
     "duration": 0.021956,
     "end_time": "2023-12-06T22:35:15.200321",
     "exception": false,
     "start_time": "2023-12-06T22:35:15.178365",
     "status": "completed"
    },
    "tags": []
   },
   "outputs": [
    {
     "data": {
      "text/plain": [
       "array([[5442,  510,   16, ...,    0,    0,    0],\n",
       "       [  22, 1628,    4, ...,    0,    0,    0],\n",
       "       [1141,  936,  136, ...,    0,    0,    0],\n",
       "       ...,\n",
       "       [   1,  419,   16, ...,    0,    0,    0],\n",
       "       [2586,  123, 3247, ...,    0,    0,    0],\n",
       "       [  30,  615,  555, ...,    0,    0,    0]], dtype=int32)"
      ]
     },
     "execution_count": 29,
     "metadata": {},
     "output_type": "execute_result"
    }
   ],
   "source": [
    "X_train"
   ]
  },
  {
   "cell_type": "markdown",
   "id": "070b58ab",
   "metadata": {
    "papermill": {
     "duration": 0.013903,
     "end_time": "2023-12-06T22:35:15.227996",
     "exception": false,
     "start_time": "2023-12-06T22:35:15.214093",
     "status": "completed"
    },
    "tags": []
   },
   "source": [
    "# **Training**"
   ]
  },
  {
   "cell_type": "code",
   "execution_count": 30,
   "id": "601b8b75",
   "metadata": {
    "execution": {
     "iopub.execute_input": "2023-12-06T22:35:15.256484Z",
     "iopub.status.busy": "2023-12-06T22:35:15.256243Z",
     "iopub.status.idle": "2023-12-06T22:35:56.879621Z",
     "shell.execute_reply": "2023-12-06T22:35:56.878559Z"
    },
    "papermill": {
     "duration": 41.640178,
     "end_time": "2023-12-06T22:35:56.882025",
     "exception": false,
     "start_time": "2023-12-06T22:35:15.241847",
     "status": "completed"
    },
    "tags": []
   },
   "outputs": [
    {
     "name": "stdout",
     "output_type": "stream",
     "text": [
      "Epoch 1/100\n",
      "85/85 [==============================] - 21s 162ms/step - loss: 0.8342 - accuracy: 0.6461 - val_loss: 0.8283 - val_accuracy: 0.6421\n",
      "Epoch 2/100\n",
      "85/85 [==============================] - 6s 72ms/step - loss: 0.4755 - accuracy: 0.8069 - val_loss: 0.7708 - val_accuracy: 0.6745\n",
      "Epoch 3/100\n",
      "85/85 [==============================] - 6s 67ms/step - loss: 0.1472 - accuracy: 0.9517 - val_loss: 0.9368 - val_accuracy: 0.7172\n",
      "Epoch 4/100\n",
      "85/85 [==============================] - 2s 22ms/step - loss: 0.0459 - accuracy: 0.9849 - val_loss: 1.1242 - val_accuracy: 0.7040\n",
      "Epoch 5/100\n",
      "85/85 [==============================] - 2s 23ms/step - loss: 0.0282 - accuracy: 0.9923 - val_loss: 1.2506 - val_accuracy: 0.7128\n"
     ]
    }
   ],
   "source": [
    "inputs=tf.keras.Input(shape=(X_train.shape[1],))\n",
    "x=tf.keras.layers.Embedding(\n",
    "    input_dim=10123,\n",
    "    output_dim=128,\n",
    "    input_length=X_train.shape[1]\n",
    "    \n",
    ")(inputs)\n",
    "x=tf.keras.layers.GRU(256,return_sequences=True, activation='tanh')(x)\n",
    "x=tf.keras.layers.Flatten()(x)\n",
    "outputs=tf.keras.layers.Dense(3,activation='softmax')(x)\n",
    "\n",
    "model=tf.keras.Model(inputs=inputs,outputs=outputs)\n",
    "\n",
    "model.compile(\n",
    "    optimizer='adam',\n",
    "    loss='sparse_categorical_crossentropy',\n",
    "    metrics=['accuracy']\n",
    ")\n",
    "history=model.fit(\n",
    "    X_train,\n",
    "    y_train,\n",
    "    validation_split=0.2,\n",
    "    batch_size=32,\n",
    "    epochs=100,\n",
    "    callbacks=[\n",
    "        tf.keras.callbacks.EarlyStopping(\n",
    "            monitor='val_loss',\n",
    "            patience=3,\n",
    "            restore_best_weights=True\n",
    "        )\n",
    "    ]\n",
    ")"
   ]
  },
  {
   "cell_type": "markdown",
   "id": "1c2dec7c",
   "metadata": {
    "papermill": {
     "duration": 0.024934,
     "end_time": "2023-12-06T22:35:56.932771",
     "exception": false,
     "start_time": "2023-12-06T22:35:56.907837",
     "status": "completed"
    },
    "tags": []
   },
   "source": [
    "# **Results**"
   ]
  },
  {
   "cell_type": "code",
   "execution_count": 31,
   "id": "78f43164",
   "metadata": {
    "execution": {
     "iopub.execute_input": "2023-12-06T22:35:56.984186Z",
     "iopub.status.busy": "2023-12-06T22:35:56.983855Z",
     "iopub.status.idle": "2023-12-06T22:35:57.249962Z",
     "shell.execute_reply": "2023-12-06T22:35:57.249101Z"
    },
    "papermill": {
     "duration": 0.294036,
     "end_time": "2023-12-06T22:35:57.251867",
     "exception": false,
     "start_time": "2023-12-06T22:35:56.957831",
     "status": "completed"
    },
    "tags": []
   },
   "outputs": [
    {
     "name": "stdout",
     "output_type": "stream",
     "text": [
      "46/46 [==============================] - 0s 4ms/step - loss: 0.6774 - accuracy: 0.7297\n"
     ]
    },
    {
     "data": {
      "text/plain": [
       "[0.6774335503578186, 0.72971111536026]"
      ]
     },
     "execution_count": 31,
     "metadata": {},
     "output_type": "execute_result"
    }
   ],
   "source": [
    "model.evaluate(X_test,y_test)"
   ]
  },
  {
   "cell_type": "code",
   "execution_count": 32,
   "id": "c2adfc2f",
   "metadata": {
    "execution": {
     "iopub.execute_input": "2023-12-06T22:35:57.305323Z",
     "iopub.status.busy": "2023-12-06T22:35:57.304989Z",
     "iopub.status.idle": "2023-12-06T22:35:57.312143Z",
     "shell.execute_reply": "2023-12-06T22:35:57.311278Z"
    },
    "papermill": {
     "duration": 0.036208,
     "end_time": "2023-12-06T22:35:57.314133",
     "exception": false,
     "start_time": "2023-12-06T22:35:57.277925",
     "status": "completed"
    },
    "tags": []
   },
   "outputs": [
    {
     "data": {
      "text/plain": [
       "2    850\n",
       "1    420\n",
       "0    184\n",
       "Name: Reaction, dtype: int64"
      ]
     },
     "execution_count": 32,
     "metadata": {},
     "output_type": "execute_result"
    }
   ],
   "source": [
    "y_test.value_counts()"
   ]
  },
  {
   "cell_type": "markdown",
   "id": "dbfca177",
   "metadata": {
    "papermill": {
     "duration": 0.025395,
     "end_time": "2023-12-06T22:35:57.365286",
     "exception": false,
     "start_time": "2023-12-06T22:35:57.339891",
     "status": "completed"
    },
    "tags": []
   },
   "source": [
    "#### "
   ]
  }
 ],
 "metadata": {
  "kaggle": {
   "accelerator": "nvidiaTeslaT4",
   "dataSources": [
    {
     "datasetId": 622510,
     "sourceId": 1192499,
     "sourceType": "datasetVersion"
    }
   ],
   "dockerImageVersionId": 30527,
   "isGpuEnabled": true,
   "isInternetEnabled": true,
   "language": "python",
   "sourceType": "notebook"
  },
  "kernelspec": {
   "display_name": "Python 3",
   "language": "python",
   "name": "python3"
  },
  "language_info": {
   "codemirror_mode": {
    "name": "ipython",
    "version": 3
   },
   "file_extension": ".py",
   "mimetype": "text/x-python",
   "name": "python",
   "nbconvert_exporter": "python",
   "pygments_lexer": "ipython3",
   "version": "3.10.12"
  },
  "papermill": {
   "default_parameters": {},
   "duration": 110.87234,
   "end_time": "2023-12-06T22:36:00.959358",
   "environment_variables": {},
   "exception": null,
   "input_path": "__notebook__.ipynb",
   "output_path": "__notebook__.ipynb",
   "parameters": {},
   "start_time": "2023-12-06T22:34:10.087018",
   "version": "2.4.0"
  }
 },
 "nbformat": 4,
 "nbformat_minor": 5
}
